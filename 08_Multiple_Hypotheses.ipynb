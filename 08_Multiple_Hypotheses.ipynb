{
  "nbformat": 4,
  "nbformat_minor": 0,
  "metadata": {
    "colab": {
      "provenance": [],
      "mount_file_id": "1JEVJXjsFT1Gq1wG7NOLNruUvmb7dwDiL",
      "authorship_tag": "ABX9TyMJAZifnx0Tq6nHlCpD3TeB",
      "include_colab_link": true
    },
    "kernelspec": {
      "name": "python3",
      "display_name": "Python 3"
    },
    "language_info": {
      "name": "python"
    }
  },
  "cells": [
    {
      "cell_type": "markdown",
      "metadata": {
        "id": "view-in-github",
        "colab_type": "text"
      },
      "source": [
        "<a href=\"https://colab.research.google.com/github/tb-harris/neuroscience-2024/blob/main/08_Multiple_Hypotheses.ipynb\" target=\"_parent\"><img src=\"https://colab.research.google.com/assets/colab-badge.svg\" alt=\"Open In Colab\"/></a>"
      ]
    },
    {
      "cell_type": "code",
      "execution_count": 1,
      "metadata": {
        "colab": {
          "base_uri": "https://localhost:8080/"
        },
        "id": "w76vazpwu1A9",
        "outputId": "348bfa71-8747-4d1b-8e16-3e04b458444e"
      },
      "outputs": [
        {
          "output_type": "stream",
          "name": "stdout",
          "text": [
            "Mounted at /content/drive\n"
          ]
        }
      ],
      "source": [
        "# mount google drive\n",
        "from google.colab import drive\n",
        "drive.mount('/content/drive')"
      ]
    },
    {
      "cell_type": "code",
      "source": [
        "import pandas as pd\n",
        "# Load in a series of p values\n",
        "# p values for all correlations beween m0 and all 40k of my genes\n",
        "p_values = pd.read_hdf('/content/drive/Shareddrives/Lisman Laboratory/Lisman 2024/Neuro/toy_data/p_values_m0.hdf5')\n"
      ],
      "metadata": {
        "id": "tgAjdwu7vAJQ"
      },
      "execution_count": 2,
      "outputs": []
    },
    {
      "cell_type": "code",
      "source": [
        "import pandas as pd\n",
        "import numpy as np\n",
        "\n",
        "cell_data = pd.DataFrame(\n",
        "    data=np.random.random((450, 40020)),\n",
        "    index=['c' + str(i) for i in range(0, 450)],\n",
        "    columns=['g' + str(i) for i in range(0, 40000)] + ['m' + str(i) for i in range(20)]\n",
        ")\n",
        "\n",
        "cell_data.to_hdf('cell_data.hdf5', key='cell_data')\n",
        "\n",
        "gene_data = cell_data.iloc[:, :-20]\n",
        "morph_data = cell_data.iloc[:, -20:]\n",
        "\n",
        "corrs = cell_data.corrwith(cell_data['m0'])"
      ],
      "metadata": {
        "id": "CQRTh4Wnx-5X"
      },
      "execution_count": 7,
      "outputs": []
    },
    {
      "cell_type": "code",
      "source": [
        "corrs.sort_values(ascending=False)"
      ],
      "metadata": {
        "colab": {
          "base_uri": "https://localhost:8080/"
        },
        "id": "ubt2LlebyGvF",
        "outputId": "9cd1c97f-c365-418b-f3e8-0e9e3cb88ed5"
      },
      "execution_count": 8,
      "outputs": [
        {
          "output_type": "execute_result",
          "data": {
            "text/plain": [
              "m0        1.000000\n",
              "g31756    0.174802\n",
              "g37778    0.174402\n",
              "g12145    0.169569\n",
              "g26039    0.166676\n",
              "            ...   \n",
              "g3806    -0.165912\n",
              "g17507   -0.170172\n",
              "g7281    -0.184650\n",
              "g10239   -0.187482\n",
              "g27503   -0.198551\n",
              "Length: 40020, dtype: float64"
            ]
          },
          "metadata": {},
          "execution_count": 8
        }
      ]
    },
    {
      "cell_type": "code",
      "source": [
        "from scipy.stats import pearsonr\n",
        "p_value = pearsonr(gene_data['g31756'], morph_data['m0'])[1]"
      ],
      "metadata": {
        "id": "9RGQcTHkyXIX"
      },
      "execution_count": 10,
      "outputs": []
    },
    {
      "cell_type": "code",
      "source": [
        "p_value"
      ],
      "metadata": {
        "colab": {
          "base_uri": "https://localhost:8080/"
        },
        "id": "rb_SPD3Xyj7C",
        "outputId": "94f1b2a5-73ab-4e61-b4e0-c923ea5a2daa"
      },
      "execution_count": 11,
      "outputs": [
        {
          "output_type": "execute_result",
          "data": {
            "text/plain": [
              "0.00019414162469955535"
            ]
          },
          "metadata": {},
          "execution_count": 11
        }
      ]
    },
    {
      "cell_type": "code",
      "source": [
        "p_values.sort_values(ascending=True)"
      ],
      "metadata": {
        "colab": {
          "base_uri": "https://localhost:8080/"
        },
        "id": "JDM6xnj1wJU8",
        "outputId": "171eab77-0546-4354-be00-7bc1e7d2d42c"
      },
      "execution_count": 4,
      "outputs": [
        {
          "output_type": "execute_result",
          "data": {
            "text/plain": [
              "g19598    0.000006\n",
              "g35128    0.000016\n",
              "g23695    0.000079\n",
              "g19670    0.000103\n",
              "g19821    0.000215\n",
              "            ...   \n",
              "g7967     0.999880\n",
              "g312      0.999884\n",
              "g29345    0.999917\n",
              "g32416    0.999970\n",
              "g34545    0.999986\n",
              "Length: 40000, dtype: float64"
            ]
          },
          "metadata": {},
          "execution_count": 4
        }
      ]
    },
    {
      "cell_type": "markdown",
      "source": [
        "Naive interpretation: Under the null hypothesis, there is a 0.0006% chance of getting our correlation value or more extreme --> We can very confidently say that gene g19598 is correlated with our morphological feature."
      ],
      "metadata": {
        "id": "FzrsDCW3wZ1e"
      }
    },
    {
      "cell_type": "markdown",
      "source": [
        "The p-value tells us about the significance of a single correlation. When you set the p-value threshold (alpha value) at 0.05 for a single hypothesis, you are saying that you're willing to take a 5% chance that your result might not be accurate.\n",
        "\n",
        "When you repeat these tests, the chances that you will get a correlation that looks statistically significant isn't (false positive) increases -- when we have 40,000 results it's a near-certainty: with random data, we are almost guarunteed to have some correlations with p values below 0.05, 0.01, etc."
      ],
      "metadata": {
        "id": "F5l8kVOWw-xV"
      }
    },
    {
      "cell_type": "markdown",
      "source": [
        "Some approaches we can take to address this:\n",
        "* Option 1 - Only run a few tests (start with biological principles and let that guide the genes/features you pick out)\n",
        "* Option 2 - Use a multiple hypothesis test correction to find an adjusted p-value that reflects the high number of hypotheses being tested"
      ],
      "metadata": {
        "id": "3NuRISh4z6nj"
      }
    },
    {
      "cell_type": "markdown",
      "source": [
        "### Bonferroni Correction\n",
        "Divide the alpha value (p-value threshold) by the total number of hypotheses being tested."
      ],
      "metadata": {
        "id": "zylvvm1g0Q4C"
      }
    },
    {
      "cell_type": "code",
      "source": [
        "0.05 / 40000"
      ],
      "metadata": {
        "colab": {
          "base_uri": "https://localhost:8080/"
        },
        "id": "2YjcaqHyz6KS",
        "outputId": "7dc72819-ca93-4732-e804-35aaab8749f7"
      },
      "execution_count": 14,
      "outputs": [
        {
          "output_type": "execute_result",
          "data": {
            "text/plain": [
              "1.25e-06"
            ]
          },
          "metadata": {},
          "execution_count": 14
        }
      ]
    },
    {
      "cell_type": "markdown",
      "source": [
        "We can see that 1,941 of our correlations would be considered significant with an alpha value of 0.05 (Bad! given that this is data is random)"
      ],
      "metadata": {
        "id": "mB8yw5f704fn"
      }
    },
    {
      "cell_type": "markdown",
      "source": [
        "Without our correction, we get about 5% false positives (to be expected since our alpha value is 0.05)"
      ],
      "metadata": {
        "id": "nxVa9cT-1Rey"
      }
    },
    {
      "cell_type": "code",
      "source": [
        "(p_values < 0.05).sum()"
      ],
      "metadata": {
        "colab": {
          "base_uri": "https://localhost:8080/"
        },
        "id": "Lvjj2ZuJzyzZ",
        "outputId": "34fba421-b0d1-4151-bbc3-200bf9245623"
      },
      "execution_count": 17,
      "outputs": [
        {
          "output_type": "execute_result",
          "data": {
            "text/plain": [
              "1949"
            ]
          },
          "metadata": {},
          "execution_count": 17
        }
      ]
    },
    {
      "cell_type": "markdown",
      "source": [
        "With our corrected alpha value, we don't get any!"
      ],
      "metadata": {
        "id": "X6Lh2jIL1WA9"
      }
    },
    {
      "cell_type": "code",
      "source": [
        "(p_values < 0.05 / 40000).sum()"
      ],
      "metadata": {
        "colab": {
          "base_uri": "https://localhost:8080/"
        },
        "id": "KzpDgqym00pn",
        "outputId": "b39a0b72-a255-4669-ddcb-a2e8b7639df6"
      },
      "execution_count": 18,
      "outputs": [
        {
          "output_type": "execute_result",
          "data": {
            "text/plain": [
              "0"
            ]
          },
          "metadata": {},
          "execution_count": 18
        }
      ]
    },
    {
      "cell_type": "markdown",
      "source": [
        "This correction is very conservative -- if you are still getting significant values with it, you should be good!\n",
        "\n",
        "Note: **If you're looking at correlations for every feature and every gene**, then the number of hypotheses you're testing would be...\n",
        "\n",
        "number of genes you're computing correlations for * number of features you're computing correlations for"
      ],
      "metadata": {
        "id": "QevDQSbJ1tnE"
      }
    }
  ]
}