{
  "nbformat": 4,
  "nbformat_minor": 0,
  "metadata": {
    "colab": {
      "provenance": [],
      "authorship_tag": "ABX9TyNYlhrYAwXPB4+YgVZj9Lgw",
      "include_colab_link": true
    },
    "kernelspec": {
      "name": "python3",
      "display_name": "Python 3"
    },
    "language_info": {
      "name": "python"
    }
  },
  "cells": [
    {
      "cell_type": "markdown",
      "metadata": {
        "id": "view-in-github",
        "colab_type": "text"
      },
      "source": [
        "<a href=\"https://colab.research.google.com/github/tb-harris/neuroscience-2024/blob/main/01_Morphology_Exploration.ipynb\" target=\"_parent\"><img src=\"https://colab.research.google.com/assets/colab-badge.svg\" alt=\"Open In Colab\"/></a>"
      ]
    },
    {
      "cell_type": "markdown",
      "source": [
        "# Neuron Morphology Data"
      ],
      "metadata": {
        "id": "srV48jiAdA_d"
      }
    },
    {
      "cell_type": "markdown",
      "source": [
        "## Setup\n",
        "Let's start by importing pandas:"
      ],
      "metadata": {
        "id": "t_vjIqxldJbh"
      }
    },
    {
      "cell_type": "code",
      "execution_count": null,
      "metadata": {
        "id": "WUK1tbmEaKci"
      },
      "outputs": [],
      "source": [
        "import pandas as pd"
      ]
    },
    {
      "cell_type": "markdown",
      "source": [
        "Run the code below to mount your Google Drive. This allows us to access Drive files from within Colab. You will be prompted to give Colab permission for this step."
      ],
      "metadata": {
        "id": "NvYHYj9hdIGO"
      }
    },
    {
      "cell_type": "code",
      "source": [
        "from google.colab import drive\n",
        "drive.mount(\"/content/drive\")"
      ],
      "metadata": {
        "id": "UyLiqhtSaNyd"
      },
      "execution_count": null,
      "outputs": []
    },
    {
      "cell_type": "markdown",
      "source": [
        "Once your Drive is mounted, try opening the file browser by clicking on the folder icon on the left sidebar. You should be able to open the *drive/* folder and see both your Drive and shared drives."
      ],
      "metadata": {
        "id": "64CLv83ddVfz"
      }
    },
    {
      "cell_type": "markdown",
      "source": [
        "Take a look at the [processed data](https://drive.google.com/drive/folders/13Ow1XH2iHqikU0aAYuX31Ja5PdOf9F8W) folder in our Shared Drive. You should see that it has a file called *morph_data.csv* - open it and take a look at the data it contains."
      ],
      "metadata": {
        "id": "sEZ4D-j1dxdF"
      }
    },
    {
      "cell_type": "markdown",
      "source": [
        "## Creating our dataframe\n",
        "We can load the file into a Pandas dataframe called *morph_data* with the code below. **Adding *index_col=\"cell_specimen_id\"* makes it so that we can access rows by their *cell_specimen_id* value rather than their position in the file.**\n",
        "\n",
        "For example, open the csv file and take a look at the first row. Note that it has the *cell_specimen_id* 601506507. Without the *index_col* parameter, we would access this row with `morph_data[0]`, but because \"cell_specimen_id\" is now our index column, we can instead access it with `morph_data[601506507]`. Note that this does **not** mean there are 60 million+ rows in the dataset -- the cell IDs do not start at zero."
      ],
      "metadata": {
        "id": "08-3g1KvJ-uQ"
      }
    },
    {
      "cell_type": "code",
      "source": [
        "morph_data = pd.read_csv(\n",
        "    \"/content/drive/Shareddrives/Lisman Laboratory/Lisman 2024/Neuro/Data/processed data/morph_data.csv\",\n",
        "    index_col=\"cell_specimen_id\"\n",
        ")"
      ],
      "metadata": {
        "id": "NvKFEdVwb64g"
      },
      "execution_count": null,
      "outputs": []
    },
    {
      "cell_type": "markdown",
      "source": [
        "## Getting an overview of the data\n",
        "**For the remainder of this notebook, you may want to refer back to your _Pandas fundamentals_ practice to recall some of the methods we can use to explore the dataset.** Part of the purpose of this activity is to get an idea of everyone's existing understanding of Pandas and what you took away from the pre-work, so for now, avoid using any other online sources or generative AI.\n",
        "\n",
        "Start by using the *head()* method to see the first few rows of our dataframe."
      ],
      "metadata": {
        "id": "hnVoSLcZjMqg"
      }
    },
    {
      "cell_type": "code",
      "source": [],
      "metadata": {
        "id": "qxvIqgtLMj-D"
      },
      "execution_count": null,
      "outputs": []
    },
    {
      "cell_type": "markdown",
      "source": [
        "Try getting the data for the row with index 601808698."
      ],
      "metadata": {
        "id": "DkH90pvYPUjB"
      }
    },
    {
      "cell_type": "code",
      "source": [],
      "metadata": {
        "id": "jfBJiOISPXYr"
      },
      "execution_count": null,
      "outputs": []
    },
    {
      "cell_type": "markdown",
      "source": [
        "And use *shape* to find the total number of rows (cells) and columns (data points for each cell)."
      ],
      "metadata": {
        "id": "gBwEzRxLQo1I"
      }
    },
    {
      "cell_type": "code",
      "source": [],
      "metadata": {
        "id": "HN1sl2HwBJgE"
      },
      "execution_count": null,
      "outputs": []
    },
    {
      "cell_type": "markdown",
      "source": [
        "Write code to get a list of all columns in the dataset."
      ],
      "metadata": {
        "id": "oIJr359iBKZj"
      }
    },
    {
      "cell_type": "code",
      "source": [],
      "metadata": {
        "id": "kdpqqLfuBP5e"
      },
      "execution_count": null,
      "outputs": []
    },
    {
      "cell_type": "markdown",
      "source": [
        "Based on what you've seen so far, describe what data is in the dataset, including:\n",
        "\n",
        "\n",
        "\n",
        "*   What does each row represent?\n",
        "*   Summarize what data points are covered by this dataset. Does this dataset contain categorical data, quantitative data, or both?\n"
      ],
      "metadata": {
        "id": "rNFwLh5PEAyK"
      }
    },
    {
      "cell_type": "markdown",
      "source": [
        "*Your answer here*"
      ],
      "metadata": {
        "id": "SkhnK4S6EL7R"
      }
    },
    {
      "cell_type": "markdown",
      "source": [
        "## Summary Statistics\n",
        "Let's focus on a couple of data points: the number of dendrite and axon branches of each cell. Try getting an idea of the center and spread of those two data points by getting summary statistics for the columns *dendrite.num_branches* and *axon.num_branches*."
      ],
      "metadata": {
        "id": "QOKZFDydBU9d"
      }
    },
    {
      "cell_type": "code",
      "source": [],
      "metadata": {
        "id": "B4jf_rdFCQqI"
      },
      "execution_count": null,
      "outputs": []
    },
    {
      "cell_type": "markdown",
      "source": [
        "Record at least two interesting observations about dendrite and axon length in the dataset:"
      ],
      "metadata": {
        "id": "d0Sk0ksEDoh_"
      }
    },
    {
      "cell_type": "markdown",
      "source": [
        "*   *Observation 1*\n",
        "*   *Observation 2*\n",
        "\n"
      ],
      "metadata": {
        "id": "GWR1ZIurDs9-"
      }
    },
    {
      "cell_type": "markdown",
      "source": [
        "Find summary statistics for axon surface area (units are μm²)."
      ],
      "metadata": {
        "id": "E0UrxaIEPyUY"
      }
    },
    {
      "cell_type": "code",
      "source": [],
      "metadata": {
        "id": "nr1ehLmOQXsE"
      },
      "execution_count": null,
      "outputs": []
    },
    {
      "cell_type": "markdown",
      "source": [
        "Record at least one interesting observation about axon surface area:"
      ],
      "metadata": {
        "id": "qLY7Du--S6e3"
      }
    },
    {
      "cell_type": "markdown",
      "source": [
        "*   *Observation 1*\n",
        "\n"
      ],
      "metadata": {
        "id": "_z_t6BphS6e3"
      }
    },
    {
      "cell_type": "markdown",
      "source": [
        "Let's examine neurons whose axon has only a single branch. Create a subset of the dataframe with only cells that have axons with 1 branch, and save it in a variable."
      ],
      "metadata": {
        "id": "Wh-1ymZkT0NP"
      }
    },
    {
      "cell_type": "code",
      "source": [],
      "metadata": {
        "id": "8dlT4IX8TFH8"
      },
      "execution_count": null,
      "outputs": []
    },
    {
      "cell_type": "markdown",
      "source": [
        "How many cells in the dataset have axons with just one branch?"
      ],
      "metadata": {
        "id": "b6Y6m6VKULGB"
      }
    },
    {
      "cell_type": "code",
      "source": [
        "# Your code here\n"
      ],
      "metadata": {
        "id": "8Vse2E0iU8SX"
      },
      "execution_count": null,
      "outputs": []
    },
    {
      "cell_type": "markdown",
      "source": [
        "*Your answer here*"
      ],
      "metadata": {
        "id": "EMPJdRmnU8io"
      }
    },
    {
      "cell_type": "markdown",
      "source": [
        "What is the mean number of dendrite branches in cells with single-branch axons?"
      ],
      "metadata": {
        "id": "1q9i3AfCVBSu"
      }
    },
    {
      "cell_type": "code",
      "source": [],
      "metadata": {
        "id": "Yq2C2Le7b6ER"
      },
      "execution_count": null,
      "outputs": []
    },
    {
      "cell_type": "markdown",
      "source": [
        "## Independent exlporation\n",
        "What other information can you discover about the morphology of the neurons in the dataset?\n",
        "\n",
        "Think of some aspects of the data that you can explore. Practice **documenting** your exploration by repeating the following pattern:\n",
        "\n",
        "1. A text cell explaining what question you will be addressing\n",
        "2. Code cell(s) to run code to answer your question\n",
        "3. A text cell that interprets/discusses the output"
      ],
      "metadata": {
        "id": "tlZDW7csbG-_"
      }
    }
  ]
}