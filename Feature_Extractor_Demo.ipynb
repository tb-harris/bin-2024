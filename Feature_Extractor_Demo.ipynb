{
  "nbformat": 4,
  "nbformat_minor": 0,
  "metadata": {
    "colab": {
      "provenance": [],
      "include_colab_link": true
    },
    "kernelspec": {
      "name": "python3",
      "display_name": "Python 3"
    },
    "language_info": {
      "name": "python"
    }
  },
  "cells": [
    {
      "cell_type": "markdown",
      "metadata": {
        "id": "view-in-github",
        "colab_type": "text"
      },
      "source": [
        "<a href=\"https://colab.research.google.com/github/tb-harris/neuroscience-2024/blob/main/Feature_Extractor_Demo.ipynb\" target=\"_parent\"><img src=\"https://colab.research.google.com/assets/colab-badge.svg\" alt=\"Open In Colab\"/></a>"
      ]
    },
    {
      "cell_type": "code",
      "execution_count": null,
      "metadata": {
        "collapsed": true,
        "id": "wsNBVs6ytBna"
      },
      "outputs": [],
      "source": [
        "# A few tools for downloading the data\n",
        "from io import StringIO\n",
        "import requests\n",
        "!pip install neuron_morphology\n",
        "from neuron_morphology.swc_io import morphology_from_swc\n",
        "from neuron_morphology.feature_extractor.data import Data"
      ]
    },
    {
      "cell_type": "code",
      "source": [
        "import tempfile\n",
        "def data_from_url(morphology_url):\n",
        "    response = requests.get(morphology_url)\n",
        "    morphology_swc = response.text\n",
        "\n",
        "    with tempfile.NamedTemporaryFile(delete=False, mode='w') as temp_file:\n",
        "        temp_file.write(morphology_swc)\n",
        "        temp_file_path = temp_file.name\n",
        "\n",
        "    return Data(morphology_from_swc(temp_file_path))"
      ],
      "metadata": {
        "id": "VX8U3_aWtGo_"
      },
      "execution_count": null,
      "outputs": []
    },
    {
      "cell_type": "code",
      "source": [
        "# fetch a published reconstruction\n",
        "IVSCC_swc_file = \"http://celltypes.brain-map.org/api/v2/well_known_file_download/491120375\"\n",
        "more_test_data = data_from_url(\"http://celltypes.brain-map.org/api/v2/well_known_file_download/692297222\")\n",
        "test_data = data_from_url(IVSCC_swc_file)"
      ],
      "metadata": {
        "id": "g5XeQwhduD0N"
      },
      "execution_count": null,
      "outputs": []
    },
    {
      "cell_type": "code",
      "source": [
        "from neuron_morphology.feature_extractor.feature_extractor import FeatureExtractor\n",
        "from neuron_morphology.features.dimension import dimension\n",
        "from neuron_morphology.features.intrinsic import num_branches, num_tips, mean_fragmentation\n",
        "from neuron_morphology.features.size import total_length\n",
        "from neuron_morphology.features.default_features import default_features\n",
        "from neuron_morphology.constants import AXON, BASAL_DENDRITE, SOMA, APICAL_DENDRITE\n",
        "# a utility for flattening outputs\n",
        "from neuron_morphology.feature_extractor.utilities import unnest\n",
        "\n",
        "\n",
        "\n",
        "features = [\n",
        "    dimension,\n",
        "    num_branches,\n",
        "    num_tips,\n",
        "    # mean_fragmentation\n",
        "]\n",
        "\n",
        "# features = default_features\n",
        "\n",
        "\n",
        "# make a pipeline\n",
        "results = (\n",
        "    FeatureExtractor()\n",
        "    .register_features(features)\n",
        "    .extract(test_data)\n",
        "    # .extract(more_test_data)\n",
        "    .results\n",
        ")\n",
        "\n",
        "\n",
        "unnest(results)\n",
        "\n",
        "\n",
        "# dendrite_node_types = [BASAL_DENDRITE, APICAL_DENDRITE]\n",
        "# total_length(test_data, dendrite_node_types)"
      ],
      "metadata": {
        "collapsed": true,
        "id": "xJtId1xOtd7Q"
      },
      "execution_count": null,
      "outputs": []
    },
    {
      "cell_type": "code",
      "source": [
        "NEURITE_SPECIALIZATIONS"
      ],
      "metadata": {
        "id": "Noff8U-4tpzn"
      },
      "execution_count": null,
      "outputs": []
    },
    {
      "cell_type": "code",
      "source": [
        "from neuron_morphology.feature_extractor.feature_specialization import NEURITE_SPECIALIZATIONS, AxonSpec, BasalDendriteSpec\n",
        "from neuron_morphology.feature_extractor.marked_feature import specialize"
      ],
      "metadata": {
        "id": "9GxTJ3e9tltc"
      },
      "execution_count": null,
      "outputs": []
    },
    {
      "cell_type": "code",
      "source": [
        "axon_num_branches = specialize(num_branches, {AxonSpec}) # note that this is a set!\n",
        "unnest(\n",
        "    FeatureExtractor()\n",
        "    .register_features([axon_num_branches])\n",
        "    .extract(test_data)\n",
        "    .results\n",
        ")"
      ],
      "metadata": {
        "id": "RuppRMmDtm6d"
      },
      "execution_count": null,
      "outputs": []
    },
    {
      "cell_type": "code",
      "source": [
        "across_neurites = [specialize(num_branches, NEURITE_SPECIALIZATIONS)]\n",
        "\n",
        "# this syntax is (almost) equivalent to the above pipeline, but we keep the extractor around\n",
        "extractor = FeatureExtractor()\n",
        "extractor.register_features(across_neurites)\n",
        "run = extractor.extract(test_data)\n",
        "across_neurite_results = run.results\n",
        "\n",
        "unnest(across_neurite_results)"
      ],
      "metadata": {
        "id": "lMHRp_7XtrQk"
      },
      "execution_count": null,
      "outputs": []
    },
    {
      "cell_type": "code",
      "source": [
        "# ... by keeping the extractor we can re-use it on new data\n",
        "\n",
        "run_two = extractor.extract(more_test_data)\n",
        "unnest(run_two.results)"
      ],
      "metadata": {
        "id": "32IfcsHGtuH-"
      },
      "execution_count": null,
      "outputs": []
    },
    {
      "cell_type": "code",
      "source": [
        "# Import all necessary packages and libraries\n",
        "!pip install allensdk\n",
        "!pip install pandas==1.5.3\n",
        "import pandas as pd\n",
        "!pip install neuron_morphology\n",
        "import sys\n",
        "sys.path.insert(0, \"../\")\n",
        "#import warnings\n",
        "#warnings.filterwarnings('ignore')\n",
        "\n",
        "from io import StringIO\n",
        "import requests\n",
        "from neuron_morphology.swc_io import morphology_from_swc\n",
        "from neuron_morphology.feature_extractor.data import Data\n",
        "from neuron_morphology.feature_extractor.feature_extractor import FeatureExtractor\n",
        "import neuron_morphology.feature_extractor.feature_writer as fw\n",
        "from neuron_morphology.features.default_features import default_features\n",
        "\n",
        "import matplotlib.pyplot as plt\n",
        "import json\n",
        "\n",
        "#Mount google drive\n",
        "from google.colab import drive\n",
        "drive.mount('/content/drive')\n",
        "#metadata\n",
        "path = '/content/drive/MyDrive/PatchSeq/20200711_patchseq_metadata_mouse - 20200711_patchseq_metadata_mouse.csv'\n",
        "metadata = pd.read_csv(path)\n",
        "# manifest\n",
        "path1 = '/content/drive/MyDrive/PatchSeq/2021-09-13_mouse_file_manifest - 2021-09-13_mouse_file_manifest.csv'\n",
        "manifest = pd.read_csv(path1)\n",
        "\n",
        "#get 573 morph file and their ids\n",
        "swc_urls = manifest.loc[\n",
        "    (manifest[\"file_type\"] == \"transformed_swc\")\n",
        "]\n",
        "\n",
        "# select the \"cell_specimen_id\" column of the swc_urls DataFrame\n",
        "selected_ids = swc_urls[\"cell_specimen_id\"].tolist()\n",
        "\n",
        "archive_url = swc_urls[\"archive_uri\"].values\n",
        "\n",
        "#5m 10s\n",
        "for url in archive_url:\n",
        "  !wget {url}\n",
        "\n",
        "\n",
        "#get morph files\n",
        "swc_path = swc_urls[\"file_name\"].values\n",
        "\n",
        "import os\n",
        "# convert relative file paths to absolute file paths\n",
        "swc_paths = [os.path.abspath(path) for path in swc_urls[\"file_name\"].values.tolist()]\n",
        "\n",
        "morphologies = []\n",
        "# pass the file paths to morphology_from_swc() function\n",
        "for path in swc_paths:\n",
        "  morph = morphology_from_swc(path)\n",
        "  morphologies.append(morph)"
      ],
      "metadata": {
        "collapsed": true,
        "id": "QC5G9lmS8geb"
      },
      "execution_count": null,
      "outputs": []
    },
    {
      "cell_type": "code",
      "source": [
        "#this utilizes the feature extractor library to get specific information about the neurons\n",
        "#in this case we are extracting information regarding the total dendrite length of neurons\n",
        "from neuron_morphology.features.size import total_length\n",
        "from neuron_morphology.features.intrinsic import mean_fragmentation\n",
        "from neuron_morphology.feature_extractor.feature_specialization import NEURITE_SPECIALIZATIONS\n",
        "from neuron_morphology.feature_extractor.marked_feature import specialize\n",
        "\n",
        "from neuron_morphology.feature_extractor.feature_extractor import FeatureExtractor\n",
        "\n",
        "fe = FeatureExtractor()\n",
        "mean_fragmentation = [specialize(mean_fragmentation, NEURITE_SPECIALIZATIONS)]\n",
        "fe.register_features(mean_fragmentation)\n",
        "#------------\n",
        "from neuron_morphology.feature_extractor.data import Data\n",
        "\n",
        "counter = 0\n",
        "\n",
        "# for morphology in morphologies:\n",
        "#     print(counter)\n",
        "#     data = Data(morphology)\n",
        "#     feature_extraction_run = fe.extract(data)\n",
        "#     results = run.results\n",
        "#     unnest(results)\n",
        "#     counter += 1\n",
        "\n",
        "morph = morphologies[6]\n",
        "data = Data(morph)\n",
        "feature_extraction_run = fe.extract(data)\n",
        "results = feature_extraction_run.results\n",
        "unnest(results)\n"
      ],
      "metadata": {
        "id": "kcv_b7BW-jIV"
      },
      "execution_count": null,
      "outputs": []
    },
    {
      "cell_type": "code",
      "source": [
        "across_neurites = [specialize(num_branches, NEURITE_SPECIALIZATIONS)]\n",
        "\n",
        "# this syntax is (almost) equivalent to the above pipeline, but we keep the extractor around\n",
        "extractor = FeatureExtractor()\n",
        "extractor.register_features(across_neurites)\n",
        "morph = morphologies[5]\n",
        "data = Data(morph)\n",
        "run = extractor.extract(data)\n",
        "across_neurite_results = run.results\n",
        "\n",
        "unnest(across_neurite_results)"
      ],
      "metadata": {
        "id": "ZgjzygJsFDlB"
      },
      "execution_count": null,
      "outputs": []
    }
  ]
}