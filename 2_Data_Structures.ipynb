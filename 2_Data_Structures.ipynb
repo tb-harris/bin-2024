{
  "cells": [
    {
      "cell_type": "markdown",
      "metadata": {
        "id": "view-in-github",
        "colab_type": "text"
      },
      "source": [
        "<a href=\"https://colab.research.google.com/github/tb-harris/neuroscience-2024/blob/main/2_Data_Structures.ipynb\" target=\"_parent\"><img src=\"https://colab.research.google.com/assets/colab-badge.svg\" alt=\"Open In Colab\"/></a>"
      ]
    },
    {
      "cell_type": "markdown",
      "metadata": {
        "id": "bS_koKJ5Pt_6"
      },
      "source": [
        "# Python Data Structures\n",
        "\n",
        "Going over the fundmentals, we learned how to store numbers and sets of characters as variables. Python also has built-in ways to store multiple strings and numbers, namely **lists**, **tuples**, and **dictionaries**. These all allow you to groups of ints, floats, and strings in different arrangements. Here, we created a `list` of 5 ints called `x`."
      ]
    },
    {
      "cell_type": "code",
      "execution_count": null,
      "metadata": {
        "id": "jN1OK2XVPt_7"
      },
      "outputs": [],
      "source": [
        "x = [ 1, 2, 3, 4, 5 ] # integers 1 - 5"
      ]
    },
    {
      "cell_type": "markdown",
      "metadata": {
        "id": "c1fV90ZvPt_7"
      },
      "source": [
        "Here are brief descriptions of the four structures.\n",
        "\n",
        "- Lists: store data in a **specific order**\n",
        "- Dictionaries: store combinations of **keys** and **values** without any order\n",
        "- Tuples: store data in a specific order and **cannot** be altered\n",
        "\n",
        "We will dive into these in more detail below, focusing primarily on lists and dictionaries."
      ]
    },
    {
      "cell_type": "markdown",
      "metadata": {
        "id": "GFBb07P6Pt_8"
      },
      "source": [
        "## Lists\n",
        "\n",
        "Lists are very common tools in Python. They allow us to store large amounts of data with an order. They come with very handy tools to reference different objects stored in them. We can also easily add items to them."
      ]
    },
    {
      "cell_type": "markdown",
      "metadata": {
        "id": "5u1Ns7RoPt_8"
      },
      "source": [
        "### Initialize a list\n",
        "There are two ways of initializing an empty list: `list()` and ` [] `."
      ]
    },
    {
      "cell_type": "code",
      "execution_count": null,
      "metadata": {
        "id": "ZS29NyeBPt_8"
      },
      "outputs": [],
      "source": [
        "# these do the same thing\n",
        "my_list = list()\n",
        "your_list = []"
      ]
    },
    {
      "cell_type": "markdown",
      "metadata": {
        "id": "BF6t8C63Pt_8"
      },
      "source": [
        "To make a list with pre-populated with items, we can fill the brackets with comma-separated values."
      ]
    },
    {
      "cell_type": "code",
      "execution_count": null,
      "metadata": {
        "id": "8JSWAnXHPt_8"
      },
      "outputs": [],
      "source": [
        "number_list = [ 0.1, 0.2, 0.3, 0.4 ] # lists can hold numbers\n",
        "string_list = [ 'cat', 'dog', 'rabbit' ] # can also hold strings"
      ]
    },
    {
      "cell_type": "markdown",
      "metadata": {
        "id": "WTKff9dDPt_8"
      },
      "source": [
        "### Referencing to items in a list"
      ]
    },
    {
      "cell_type": "markdown",
      "metadata": {
        "id": "hrnUfrcDPt_8"
      },
      "source": [
        "Each item in a list has an **index**. If your list has 3 items, it has 3 indexes (or indicies, depending on who you ask).\n",
        "\n",
        "In Python, indexes starts at 0. To reference the first item in `number_list`, we use `number_list[0]`."
      ]
    },
    {
      "cell_type": "code",
      "execution_count": null,
      "metadata": {
        "id": "DZ7RLTTsPt_8"
      },
      "outputs": [],
      "source": [
        "number_list[0] # get the first item from number_list"
      ]
    },
    {
      "cell_type": "markdown",
      "metadata": {
        "id": "zyhoKSCkPt_9"
      },
      "source": [
        "We can reference the rest of the numbers in the list with indexes 1 through 3. Note that even though there are 4 items in the list, the index goes from 0 to 3.\n",
        "\n",
        "<img src=\"https://drive.google.com/uc?export=view&id=1POMgKxCoa-iFv9B5WYEz7XenZ3ctClEJ\" width=\"400px\" alt=\"illustration of indices and length\">\n",
        "\n",
        "We also can use the items in a list the same way we can use variables to do math or other operations."
      ]
    },
    {
      "cell_type": "code",
      "execution_count": null,
      "metadata": {
        "id": "4tQamUo0Pt_9"
      },
      "outputs": [],
      "source": [
        "print(number_list[1] - number_list[3]) # 0.2 - 0.4\n",
        "print('my favorite kind of animal is', string_list[2]) # prints rabbit"
      ]
    },
    {
      "cell_type": "markdown",
      "metadata": {
        "id": "07yHidBlPt_9"
      },
      "source": [
        "If we try to reference an index that does not exist in a list, we get an error."
      ]
    },
    {
      "cell_type": "code",
      "execution_count": null,
      "metadata": {
        "id": "jLq8tInGPt_9"
      },
      "outputs": [],
      "source": [
        "number_list[4]"
      ]
    },
    {
      "cell_type": "markdown",
      "metadata": {
        "id": "69S9V7Y0Pt_9"
      },
      "source": [
        "If we want to reference the last item in a list, we can do it two ways. We can use the length of list and subtract 1. Alternatively, we can also use `[-1]` as a shorthand for the last item."
      ]
    },
    {
      "cell_type": "code",
      "execution_count": null,
      "metadata": {
        "id": "OrEnFUbxPt_9"
      },
      "outputs": [],
      "source": [
        "print(number_list[ len(number_list) - 1 ])\n",
        "print(number_list[-1])"
      ]
    },
    {
      "cell_type": "markdown",
      "metadata": {
        "id": "fNPPTnIoPt_9"
      },
      "source": [
        "### Appending to a list"
      ]
    },
    {
      "cell_type": "markdown",
      "metadata": {
        "id": "OgZVfEQ4Pt_9"
      },
      "source": [
        "If we want to add an item to the end of `string_list`, we can use `string_list.append()`."
      ]
    },
    {
      "cell_type": "code",
      "execution_count": null,
      "metadata": {
        "id": "jKWmh_dmPt_9"
      },
      "outputs": [],
      "source": [
        "string_list.append('bear')\n",
        "print(string_list)"
      ]
    },
    {
      "cell_type": "markdown",
      "metadata": {
        "id": "akmFw7OgPt_9"
      },
      "source": [
        "### Reassigning an item in a list"
      ]
    },
    {
      "cell_type": "markdown",
      "metadata": {
        "id": "py7wn6VTPt_9"
      },
      "source": [
        "We can also alter any item currently in a list."
      ]
    },
    {
      "cell_type": "code",
      "execution_count": null,
      "metadata": {
        "id": "wUW4_Aa5Pt_9"
      },
      "outputs": [],
      "source": [
        "number_list[0] = 2096\n",
        "print(number_list)"
      ]
    },
    {
      "cell_type": "markdown",
      "metadata": {
        "id": "rFv-mrMePt_-"
      },
      "source": [
        "### Question 1\n",
        "Create a list *days_of_the_week* with the days of the week, and print it."
      ]
    },
    {
      "cell_type": "code",
      "execution_count": null,
      "metadata": {
        "id": "hzbVmP64Pt_-"
      },
      "outputs": [],
      "source": [
        "### Your code here:"
      ]
    },
    {
      "cell_type": "markdown",
      "metadata": {
        "id": "N45pIY5DSWYv"
      },
      "source": [
        "### Question 2\n",
        "Without re-initializing the whole list, reeassign the first value in the list below to be 0.5, and the last to be -8.2."
      ]
    },
    {
      "cell_type": "code",
      "execution_count": null,
      "metadata": {
        "id": "2DsREMXTSWYx"
      },
      "outputs": [],
      "source": [
        "readings = [8.3, 4.1, 9.6, 5.2]\n",
        "\n",
        "### **Your code here**\n",
        "\n",
        "\n",
        "# print the new list\n",
        "print(readings) # Should print [0.5, 4.1, 9.6, -8.2]"
      ]
    },
    {
      "cell_type": "markdown",
      "metadata": {
        "id": "7hhE7BJRSW-G"
      },
      "source": [
        "### Question 3\n",
        "Use Python to calculate the change between the first and second hourly temperatures in the list below. Print the result (which should be 4.1)."
      ]
    },
    {
      "cell_type": "code",
      "execution_count": null,
      "metadata": {
        "id": "lkFJ2k91SW-H"
      },
      "outputs": [],
      "source": [
        "hourly_temps = [7.2, 11.3, 16.8, 19.2, 14.8]\n",
        "\n",
        "### Your code here:"
      ]
    },
    {
      "cell_type": "markdown",
      "metadata": {
        "id": "nguhhfSDPt_-"
      },
      "source": [
        "## Dictionaries\n",
        "Like lists, dictionaries are powerful ways to store items. However, the two structures are quite different from each other. Instead of storing items in a specific order, like a list, dictionaries store them as **keys** and **values**.\n",
        "\n",
        "Consider how you could use dictionaries to store the populations of animals in an ecosystem. For example, you might have a key `giraffes` paired with the value `25`, and the key `kangaroos` paired with the value `32`. We can do this with using brackets (`{ }`) and colons (`:`) with the format of `{ KEY1: VALUE1, KEY2: VALUE2, ... }`."
      ]
    },
    {
      "cell_type": "code",
      "execution_count": null,
      "metadata": {
        "id": "_oo_Tws5Pt_-"
      },
      "outputs": [],
      "source": [
        "animal_populations = { 'giraffes': 25, 'kangaroos': 32 }"
      ]
    },
    {
      "cell_type": "markdown",
      "metadata": {
        "id": "d1AnQ2rqPt_-"
      },
      "source": [
        "Notice that our keys are strings and our values here are ints. Keys and values can be any data types, though it tends to be best practice for keys to be strings.\n",
        "\n",
        "We can also write this vertically, putting key-value pairs on their own lines for visual clarity. You will still need to separate entries with a comma, however."
      ]
    },
    {
      "cell_type": "code",
      "execution_count": null,
      "metadata": {
        "id": "Kl19SyoIPt_-"
      },
      "outputs": [],
      "source": [
        "animal_populations = {\n",
        "    'giraffes': 25,\n",
        "    'kangaroos': 32\n",
        "}"
      ]
    },
    {
      "cell_type": "markdown",
      "metadata": {
        "id": "IZEqmUAkPt_-"
      },
      "source": [
        "Once we create a dictionary with keys and values, we can use the key to return the corresponding value. We do this by using `DICT[KEY]`:"
      ]
    },
    {
      "cell_type": "code",
      "execution_count": null,
      "metadata": {
        "id": "p59fZk0DPt_-"
      },
      "outputs": [],
      "source": [
        "animal_populations['giraffes']"
      ]
    },
    {
      "cell_type": "markdown",
      "metadata": {
        "id": "RkEI1tzOPt_-"
      },
      "source": [
        "Similarly to lists, if we try to reference a key that is not present in the dictionary, we will get an error."
      ]
    },
    {
      "cell_type": "code",
      "execution_count": null,
      "metadata": {
        "id": "3bSZ2abTPt_-"
      },
      "outputs": [],
      "source": [
        "animal_populations['beaver']"
      ]
    },
    {
      "cell_type": "markdown",
      "metadata": {
        "id": "7XOu1C91Pt_-"
      },
      "source": [
        "Making an empty dictionary is similar to making an empty list. We can either use `dict()` or `{}`."
      ]
    },
    {
      "cell_type": "code",
      "execution_count": null,
      "metadata": {
        "id": "ecLWJ6ZQPt_-"
      },
      "outputs": [],
      "source": [
        "# these do the same thing\n",
        "my_dict = dict()\n",
        "your_dict = {}"
      ]
    },
    {
      "cell_type": "markdown",
      "metadata": {
        "id": "jKpBtDj2Pt_-"
      },
      "source": [
        "### Adding to a dictionary\n",
        "It is very simple to add a new item to a dictionary. Instead of using the colon notation, we can simply run `DICT[KEY] = VALUE`."
      ]
    },
    {
      "cell_type": "code",
      "execution_count": null,
      "metadata": {
        "id": "tY7RnHPCPt__"
      },
      "outputs": [],
      "source": [
        "animal_populations['moose'] = 43 # new key-value pair - moose: 43\n",
        "print(animal_populations)"
      ]
    },
    {
      "cell_type": "markdown",
      "source": [
        "Try adding another key-value pair yourself, and display the dictionary again:"
      ],
      "metadata": {
        "id": "iAR99-fw27as"
      }
    },
    {
      "cell_type": "code",
      "source": [],
      "metadata": {
        "id": "FRAZWzp53Bt0"
      },
      "execution_count": null,
      "outputs": []
    },
    {
      "cell_type": "markdown",
      "metadata": {
        "id": "4-eEwT7MPuAD"
      },
      "source": [
        "### Give a key a new value\n",
        "Giving a key a new value works just like reassigning an item in a list. Note that this means that you cannot have two identical keys in the same dictionary."
      ]
    },
    {
      "cell_type": "code",
      "execution_count": null,
      "metadata": {
        "id": "OHXVsC42PuAD"
      },
      "outputs": [],
      "source": [
        "animal_populations['giraffes'] = 85 # key giraffes assigned the value of 85\n",
        "print(animal_populations)"
      ]
    },
    {
      "cell_type": "markdown",
      "source": [
        "We can also use other [assignment operators](https://colab.research.google.com/drive/1LHiQoEdPWNQWOf9QpTdvW041M7Z82G1B#scrollTo=mV1pkDeBI_8a) with dictionaries and list."
      ],
      "metadata": {
        "id": "lUY2knl632aB"
      }
    },
    {
      "cell_type": "code",
      "source": [
        "animal_populations['giraffes'] -= 5 # Decreases the giraffe population by 5\n",
        "animal_populations['kangaroos'] *= 2 # Doubles the kangaroo population"
      ],
      "metadata": {
        "id": "eMOZ5yaK4K8c"
      },
      "execution_count": null,
      "outputs": []
    },
    {
      "cell_type": "markdown",
      "metadata": {
        "id": "lqTNPUpCVow0"
      },
      "source": [
        "### Question 4\n",
        "There are 145 snakes in the ecosystem. Try adding this information to `animal_populations`, and print the dictionary again."
      ]
    },
    {
      "cell_type": "code",
      "execution_count": null,
      "metadata": {
        "id": "SptUn_ZbVow0"
      },
      "outputs": [],
      "source": [
        "### your code here:\n"
      ]
    },
    {
      "cell_type": "markdown",
      "metadata": {
        "id": "V4DRKSZM3TcU"
      },
      "source": [
        "### Question 5\n",
        "Add 5 to the value of `moose` in `animal_populations`, then print the dictionary again."
      ]
    },
    {
      "cell_type": "code",
      "execution_count": null,
      "metadata": {
        "id": "YjC63l1M3Tcd"
      },
      "outputs": [],
      "source": [
        "### your code here:\n"
      ]
    },
    {
      "cell_type": "markdown",
      "metadata": {
        "id": "ouV6OXC3PuAD"
      },
      "source": [
        "## Tuples\n",
        "Tuples are a lot like lists. They are ordered collections of items that can be referenced with number indexing. However, they are **immutable**, meaning that once you create one, you cannot change it by adding to it or editing items in it. They are a somewhat more efficient to use, so they are situationally useful.\n",
        "\n",
        "You can create a new tuple with parentheses. Note that creating an empty tuple has little use, since it cannot be altered."
      ]
    },
    {
      "cell_type": "code",
      "execution_count": null,
      "metadata": {
        "id": "VCf5v6arPuAE"
      },
      "outputs": [],
      "source": [
        "position = (5, 8, 32)\n",
        "\n",
        "print(position)"
      ]
    },
    {
      "cell_type": "markdown",
      "metadata": {
        "id": "jBpdTscuPuAE"
      },
      "source": [
        "### Question 6: Structures\n",
        "\n",
        "For each of the following examples, should you use a list, dictionary, or tuple?\n",
        "\n",
        "1. A group of employees and their IDs - *YOUR ANSWER*\n",
        "2. All 12 months in order. - *YOUR ANSWER*\n",
        "3. Your favorite foods ranked. - *YOUR ANSWER*"
      ]
    },
    {
      "cell_type": "markdown",
      "metadata": {
        "id": "LMFvixKbPuAE"
      },
      "source": [
        "## Bonus: Nested structures\n",
        "\n",
        "We can place data structures within other data structures as well. These new structures are referred to as **nested data structures**, and they are powerful.\n",
        "\n",
        "We have lists containing lists, dictionaries containing dictionaries, dictionaries containing lists, and much more."
      ]
    },
    {
      "cell_type": "code",
      "execution_count": null,
      "metadata": {
        "id": "kqxyBPVcPuAE"
      },
      "outputs": [],
      "source": [
        "# list of lists\n",
        "list1 = ['a', 'b', 'c']\n",
        "list2 = ['d', 'e', 'f', 'f']\n",
        "list3 = ['h', 'i', 'j']\n",
        "large_list = [list1, list2, list3]\n",
        "print(large_list)\n",
        "# dictionary of dictionaries\n",
        "\n",
        "sample1 = {\n",
        "    'co2': [10.2, 3.4, 10.1],\n",
        "    'n': 4,\n",
        "    'city': 'Waltham'\n",
        "}\n",
        "\n",
        "sample2 = {\n",
        "    'co2': [4.2, 2.3, 3.5, 23],\n",
        "    'a': 23,\n",
        "    'city': 'Watertown'\n",
        "}\n",
        "\n",
        "samples = {'s1': sample1, 's2':sample2}\n",
        "samples2 = dict()\n",
        "\n",
        "samples = {'s1': sample1, 's2':sample2}\n",
        "print(samples)"
      ]
    },
    {
      "cell_type": "markdown",
      "metadata": {
        "id": "y9boRiqQPuAE"
      },
      "source": [
        "Indexing and referencing items in these nested structures can get quite complicated. It's important to know the full nested structure when doing these references."
      ]
    },
    {
      "cell_type": "code",
      "execution_count": null,
      "metadata": {
        "id": "iHCt-UNsPuAE"
      },
      "outputs": [],
      "source": [
        "print(large_list[0][2])\n",
        "\n",
        "print(samples['s1']['city'])\n",
        "\n",
        "print(samples['s2']['co2'][0])"
      ]
    },
    {
      "cell_type": "markdown",
      "metadata": {
        "id": "Bg41kdBFPuAE"
      },
      "source": [
        "### Bonus Question 1: Nested structures pt. 1\n",
        "Create a list that contains an empty list and empty dictionary.\n",
        "\n",
        "Then, add any new item to the nested list, and add a key-item pair to the dictionary."
      ]
    },
    {
      "cell_type": "code",
      "execution_count": null,
      "metadata": {
        "id": "S0oJ3DOGPuAE"
      },
      "outputs": [],
      "source": [
        "# your code here"
      ]
    },
    {
      "cell_type": "markdown",
      "metadata": {
        "id": "_n36go1aPuAE"
      },
      "source": [
        "### Bonus Question 2: Nested structures pt. 2\n",
        "\n",
        "We want to store information regarding the ecological community in the local area.\n",
        "\n",
        "In Rivertown, there are 12 species of frogs, 2 species of snakes, and 20 species of birds.\n",
        "\n",
        "In Spring Valley, there are 4 species of frogs, 1 species of snake, 2 species of birds, and 13 species of rodents.\n",
        "\n",
        "In Ice Town, there are 4 species of birds, 6 species of rodents, and 1 species of bear.\n",
        "\n",
        "Store this information in one nested data structure."
      ]
    },
    {
      "cell_type": "code",
      "execution_count": null,
      "metadata": {
        "id": "-rdf2bdjPuAE"
      },
      "outputs": [],
      "source": [
        "# your code here"
      ]
    },
    {
      "cell_type": "markdown",
      "source": [
        "This notebook is adapted from the [Brandeis Library Python Programming Workshop](https://deisdata.github.io/python/) created by Ford Fishman."
      ],
      "metadata": {
        "id": "RFZiR-ZNjyT3"
      }
    }
  ],
  "metadata": {
    "kernelspec": {
      "display_name": "Python 3.9.12 ('workshop')",
      "language": "python",
      "name": "python3"
    },
    "language_info": {
      "codemirror_mode": {
        "name": "ipython",
        "version": 3
      },
      "file_extension": ".py",
      "mimetype": "text/x-python",
      "name": "python",
      "nbconvert_exporter": "python",
      "pygments_lexer": "ipython3",
      "version": "3.9.12"
    },
    "orig_nbformat": 4,
    "vscode": {
      "interpreter": {
        "hash": "5e5670abb08844f1af3bbc7bb9ef8e3b4ef400ad7b254432ac9e559b82ca9501"
      }
    },
    "colab": {
      "provenance": [],
      "include_colab_link": true
    }
  },
  "nbformat": 4,
  "nbformat_minor": 0
}