{
  "cells": [
    {
      "cell_type": "markdown",
      "metadata": {
        "id": "view-in-github",
        "colab_type": "text"
      },
      "source": [
        "<a href=\"https://colab.research.google.com/github/tb-harris/neuroscience-2024/blob/main/prework/3_Booleans.ipynb\" target=\"_parent\"><img src=\"https://colab.research.google.com/assets/colab-badge.svg\" alt=\"Open In Colab\"/></a>"
      ]
    },
    {
      "cell_type": "markdown",
      "metadata": {
        "id": "NUADafkDPoVV"
      },
      "source": [
        "# Boolean expressions"
      ]
    },
    {
      "cell_type": "markdown",
      "metadata": {
        "id": "H3xFF2POPoVY"
      },
      "source": [
        "Often in code, we want to take different actions based on the current state of our program (e.g., do we have more or less than 100 samples in our data?). We can ask yes or no questions about this state called **boolean expressions**. These questions are answered as **true** or **false**. We can design the program to perform an action based on the response, which is called a **conditional**."
      ]
    },
    {
      "cell_type": "markdown",
      "metadata": {
        "id": "5SDor_nPPoVY"
      },
      "source": [
        "## Boolean\n",
        "\n",
        "`True` and `False` are keywords in Python. They are a unique data type called **booleans**.\n",
        "\n",
        "Capitalization is critical. Booleans in Python have their first letter capitalized and the rest lower-case."
      ]
    },
    {
      "cell_type": "code",
      "execution_count": null,
      "metadata": {
        "id": "T2_hHFWOPoVZ"
      },
      "outputs": [],
      "source": [
        "f = False\n",
        "print(f)"
      ]
    },
    {
      "cell_type": "code",
      "execution_count": null,
      "metadata": {
        "id": "jb_qTUlvPoVa"
      },
      "outputs": [],
      "source": [
        "t = True\n",
        "print(t)"
      ]
    },
    {
      "cell_type": "markdown",
      "metadata": {
        "id": "VI6mth01PoVb"
      },
      "source": [
        "We can convert other data types to booleans with the function `bool()`. A number will only convert to `False` if it is exactly 0 or 0.0. All other numbers convert to `True`."
      ]
    },
    {
      "cell_type": "code",
      "execution_count": null,
      "metadata": {
        "id": "BZrs1N51PoVb"
      },
      "outputs": [],
      "source": [
        "print(bool(0)) # False\n",
        "print(bool(1)) # True"
      ]
    },
    {
      "cell_type": "markdown",
      "metadata": {
        "id": "igakQtvePoVc"
      },
      "source": [
        "Similarly, we can convert strings into booleans. Empty strings (`''` or `\"\"`) convert to `False` and any other string converts to `True`."
      ]
    },
    {
      "cell_type": "code",
      "execution_count": null,
      "metadata": {
        "id": "cyWW-0_ePoVc"
      },
      "outputs": [],
      "source": [
        "print(bool(''))\n",
        "print(bool(' '))"
      ]
    },
    {
      "cell_type": "markdown",
      "metadata": {
        "id": "_Brbm4fNPoVd"
      },
      "source": [
        "## Boolean expressions\n",
        "Boolean expressions essentially ask questions that evaluate as `True` or `False`. These can examine whether two values are equal, if one is larger than another, or similar questions. To ask these questions we need to use special boolean operators that you'll see below.\n",
        "\n",
        "Boolean expressions are best used between the same data types. You can easily get unexpected results when comparing strings and ints, for instance."
      ]
    },
    {
      "cell_type": "markdown",
      "metadata": {
        "id": "SnNcu7UyPoVd"
      },
      "source": [
        "### Equality: `==`"
      ]
    },
    {
      "cell_type": "code",
      "execution_count": null,
      "metadata": {
        "id": "pnYR_dm_PoVd"
      },
      "outputs": [],
      "source": [
        "\"bad\" == \"bad\""
      ]
    },
    {
      "cell_type": "code",
      "execution_count": null,
      "metadata": {
        "id": "RWVYN551PoVe"
      },
      "outputs": [],
      "source": [
        "2 == 3"
      ]
    },
    {
      "cell_type": "markdown",
      "metadata": {
        "id": "3Cu692SXPoVe"
      },
      "source": [
        "*Note: checking for equality for floats can be tricky given common rounding errors. Try to avoid if possible, and test for inequality (see below).*"
      ]
    },
    {
      "cell_type": "markdown",
      "metadata": {
        "id": "rcxkwB1XPoVe"
      },
      "source": [
        "### Not equals: `!=`"
      ]
    },
    {
      "cell_type": "code",
      "execution_count": null,
      "metadata": {
        "id": "QIVkd1ZFPoVe"
      },
      "outputs": [],
      "source": [
        "\"bad\" != \"BAD\" # capitalization matters!"
      ]
    },
    {
      "cell_type": "code",
      "execution_count": null,
      "metadata": {
        "id": "kur2nfS3PoVe"
      },
      "outputs": [],
      "source": [
        "\"bad\" != \"bad\""
      ]
    },
    {
      "cell_type": "markdown",
      "metadata": {
        "id": "6hYjTcLOPoVe"
      },
      "source": [
        "### Inequalities"
      ]
    },
    {
      "cell_type": "markdown",
      "metadata": {
        "id": "XTOHHw94PoVe"
      },
      "source": [
        "There are 4 different boolean operators for comparing inequalities: less than (`<`), less than or equal to (`<=`), greater than (`>`), and greater than or equal to (`>=`)."
      ]
    },
    {
      "cell_type": "code",
      "execution_count": null,
      "metadata": {
        "id": "KApTRjtgPoVe"
      },
      "outputs": [],
      "source": [
        "1 < 4"
      ]
    },
    {
      "cell_type": "code",
      "execution_count": null,
      "metadata": {
        "id": "_gmmAVzuPoVf"
      },
      "outputs": [],
      "source": [
        "5.1 > 5.0"
      ]
    },
    {
      "cell_type": "code",
      "execution_count": null,
      "metadata": {
        "id": "UVkLxSAYPoVf"
      },
      "outputs": [],
      "source": [
        "3 >= 3"
      ]
    },
    {
      "cell_type": "code",
      "execution_count": null,
      "metadata": {
        "id": "xHkqXkNdPoVf"
      },
      "outputs": [],
      "source": [
        "7 <= 3"
      ]
    },
    {
      "cell_type": "markdown",
      "metadata": {
        "id": "Dz_PYjb6PoVf"
      },
      "source": [
        "### Inclusivity: `in`\n",
        "\n",
        "We can use the keyword `in` to check if an item is in a data structure (list, dictionary, set, tuple)."
      ]
    },
    {
      "cell_type": "code",
      "execution_count": null,
      "metadata": {
        "id": "bFjy_DauPoVf"
      },
      "outputs": [],
      "source": [
        "my_list = [ 'apple', 'pear', 'grape' ]\n",
        "'apple' in my_list"
      ]
    },
    {
      "cell_type": "markdown",
      "metadata": {
        "id": "iTOb02-iPoVf"
      },
      "source": [
        "You can also use `in` to check if a smaller string is a part of a larger string."
      ]
    },
    {
      "cell_type": "code",
      "execution_count": null,
      "metadata": {
        "id": "qNFFZh-MPoVf"
      },
      "outputs": [],
      "source": [
        "print('i' in 'team')\n",
        "print('i' in 'win')"
      ]
    },
    {
      "cell_type": "code",
      "execution_count": null,
      "metadata": {
        "id": "AIPsBbPyPoVf"
      },
      "outputs": [],
      "source": [
        "print('good movie' in 'star wars sequel trilogy')"
      ]
    },
    {
      "cell_type": "markdown",
      "metadata": {
        "id": "DF4lIH5JPoVf"
      },
      "source": [
        "### `not`\n",
        "Just as adding not in a sentence reverses its meaning (e.g., \"The desk is red.\" vs \"The desk is not red.\"), adding the keyword `not` in front of a boolean expression reverses the value returned -> `not 0 == 0` returns `False`."
      ]
    },
    {
      "cell_type": "code",
      "execution_count": null,
      "metadata": {
        "id": "YsChbXDyPoVf"
      },
      "outputs": [],
      "source": [
        "not 20 < 40"
      ]
    },
    {
      "cell_type": "code",
      "execution_count": null,
      "metadata": {
        "id": "aa1HkBspPoVg"
      },
      "outputs": [],
      "source": [
        "not 'apple' in 'grape'"
      ]
    },
    {
      "cell_type": "code",
      "execution_count": null,
      "metadata": {
        "id": "9vdoBVG-PoVg"
      },
      "outputs": [],
      "source": [
        "not True"
      ]
    },
    {
      "cell_type": "markdown",
      "metadata": {
        "id": "bCRMofCbPoVg"
      },
      "source": [
        "### Order of Operators"
      ]
    },
    {
      "cell_type": "markdown",
      "metadata": {
        "id": "6TiDukfVPoVg"
      },
      "source": [
        "We can chain together boolean comparisons with `and` and `or`.\n",
        "\n",
        "Putting `and` between two booleans will make the whole statement true only both statements are true.\n"
      ]
    },
    {
      "cell_type": "code",
      "execution_count": null,
      "metadata": {
        "id": "YP1YyW37PoVg"
      },
      "outputs": [],
      "source": [
        "3 < 4 and \"banana\" == \"banana\""
      ]
    },
    {
      "cell_type": "markdown",
      "metadata": {
        "id": "l4GumizLPoVg"
      },
      "source": [
        "On the other hand, `or` only needs one of the statements to be true."
      ]
    },
    {
      "cell_type": "code",
      "execution_count": null,
      "metadata": {
        "id": "sOVGgvNxPoVg"
      },
      "outputs": [],
      "source": [
        "2 == 3 or 2 == 2"
      ]
    },
    {
      "cell_type": "markdown",
      "metadata": {
        "id": "z6A0xvX6PoVl"
      },
      "source": [
        "Order of operations work with boolean expressions similarly to math. Comparisons run left to right, unless you put parentheses around the comparisons."
      ]
    },
    {
      "cell_type": "code",
      "execution_count": null,
      "metadata": {
        "id": "mVsSuUW-PoVl"
      },
      "outputs": [],
      "source": [
        "print(not 2 == 3 or 2 == 2)\n",
        "print(not (2 == 3 or 2 == 2)) # parentheses matter!"
      ]
    },
    {
      "cell_type": "markdown",
      "source": [],
      "metadata": {
        "id": "ZexzGxM__r_n"
      }
    },
    {
      "cell_type": "markdown",
      "source": [
        "### Question 1\n",
        "Evaluate each boolean expression yourself (put your prediction in the right column). Then, try printing each expression in the code cell below to see if your predictions were correct.\n",
        "\n",
        "| Expression                                  | Prediction (True/False) |\n",
        "|---------------------------------------------|-----------------|\n",
        "| `5 > 3`                                     |  *your answer*  |\n",
        "| `10 == 10`                                  |    |\n",
        "| `7 != 5`                                    |    |\n",
        "| `12 in [10, 2, 8]`                          |    |\n",
        "| `(3 > 1) and (2 < 4)`                       |    |\n",
        "| `(10 >= 10) or (6 < 2)`                     |    |\n",
        "| `(3 + 2 == 5) and not (4 * 2 < 7)`          |    |\n"
      ],
      "metadata": {
        "id": "iVfCfqsF8TdL"
      }
    },
    {
      "cell_type": "code",
      "source": [],
      "metadata": {
        "id": "XFBabK098TNT"
      },
      "execution_count": null,
      "outputs": []
    },
    {
      "cell_type": "markdown",
      "source": [
        "### Variables in boolean expressions\n",
        "We can also use variables in boolean expressions. Try changing the `num_students` variable to see how the output of each expression below changes:"
      ],
      "metadata": {
        "id": "V7e7_gTu9zjt"
      }
    },
    {
      "cell_type": "code",
      "source": [
        "num_students = 200\n",
        "print(\"More than 100 students?\", num_students > 100)\n",
        "print(\"More than 200 students?\", num_students > 200)\n",
        "print(\"More than 300 students?\", num_students > 300)"
      ],
      "metadata": {
        "id": "DNpEuepu97sQ"
      },
      "execution_count": null,
      "outputs": []
    },
    {
      "cell_type": "markdown",
      "metadata": {
        "id": "OWKxPr-2FO4h"
      },
      "source": [
        "### Question 2"
      ]
    },
    {
      "cell_type": "markdown",
      "metadata": {
        "id": "LzNfmxJHFO4h"
      },
      "source": [
        "Write a boolean expression that is true if the value of `n` is bigger than 100. Test your expression by changing the value of `n` and seeing how the output changes."
      ]
    },
    {
      "cell_type": "code",
      "execution_count": null,
      "metadata": {
        "id": "_0yc38VDFO4h"
      },
      "outputs": [],
      "source": [
        "n = 99\n",
        "\n",
        "# Your code here"
      ]
    },
    {
      "cell_type": "markdown",
      "metadata": {
        "id": "BJ32qYHtPoVl"
      },
      "source": [
        "### Question 3"
      ]
    },
    {
      "cell_type": "markdown",
      "metadata": {
        "id": "5n-LoNJDPoVl"
      },
      "source": [
        "Write a boolean expression that evaluates to true if `shape` is \"circle\" or \"square\". Test your expression by changing the value of `shape` and seeing how the output changes."
      ]
    },
    {
      "cell_type": "code",
      "execution_count": null,
      "metadata": {
        "id": "AZ3oyb7qPoVl"
      },
      "outputs": [],
      "source": [
        "shape = 'circle'\n",
        "\n",
        "# Your code here"
      ]
    },
    {
      "cell_type": "markdown",
      "metadata": {
        "id": "1g8O5VhWAikg"
      },
      "source": [
        "### Question 4"
      ]
    },
    {
      "cell_type": "markdown",
      "metadata": {
        "id": "0lQPxaNSAiki"
      },
      "source": [
        "Write a boolean expression that evaluates whether the population is less than 100 or bigger than 5000."
      ]
    },
    {
      "cell_type": "code",
      "execution_count": null,
      "metadata": {
        "id": "MEai08-4Aiki"
      },
      "outputs": [],
      "source": [
        "population = 2300\n",
        "\n",
        "# Your code here"
      ]
    },
    {
      "cell_type": "markdown",
      "metadata": {
        "id": "T6RlQkoOFrSs"
      },
      "source": [
        "### Question 5"
      ]
    },
    {
      "cell_type": "markdown",
      "metadata": {
        "id": "UIXmgsaUFrS3"
      },
      "source": [
        "Consider the `animal_populations` [dictionary](https://colab.research.google.com/drive/1me6zfLr-tXAheZ266vi9aLy1HmRtDIMa#scrollTo=nguhhfSDPt_-) from the previous notebook. Write a boolean expression that evalues whether there 100 or more giraffes."
      ]
    },
    {
      "cell_type": "code",
      "execution_count": null,
      "metadata": {
        "id": "L_dYhLjDFrS3"
      },
      "outputs": [],
      "source": [
        "animal_populations = { 'giraffes': 25, 'kangaroos': 32 }\n",
        "\n",
        "# Your code here"
      ]
    },
    {
      "cell_type": "markdown",
      "metadata": {
        "id": "jw6aaiAmPoVl"
      },
      "source": [
        "### Question 6\n",
        "What happens when you compare different data types with `==`? What about `>`, `<`, `<=`, or `>=`? Write code to test the question, then explain your answer below."
      ]
    },
    {
      "cell_type": "code",
      "source": [
        "# Write code to help you answer the question\n"
      ],
      "metadata": {
        "id": "CVwYCXimAucF"
      },
      "execution_count": null,
      "outputs": []
    },
    {
      "cell_type": "markdown",
      "source": [
        "*YOUR ANSWER HERE*"
      ],
      "metadata": {
        "id": "ohTIKgyzA6R1"
      }
    },
    {
      "cell_type": "markdown",
      "metadata": {
        "id": "XiIqNfqlPoVo"
      },
      "source": [
        "## Resources\n",
        "This notebook is adapted from the [Brandeis Library Python Programming Workshop](https://deisdata.github.io/python/) created by Ford Fishman.\n",
        "\n",
        "- [Software Carpentry](https://swcarpentry.github.io/python-novice-inflammation/07-cond/index.html)"
      ]
    }
  ],
  "metadata": {
    "kernelspec": {
      "display_name": "Python 3.9.12 ('workshop')",
      "language": "python",
      "name": "python3"
    },
    "language_info": {
      "codemirror_mode": {
        "name": "ipython",
        "version": 3
      },
      "file_extension": ".py",
      "mimetype": "text/x-python",
      "name": "python",
      "nbconvert_exporter": "python",
      "pygments_lexer": "ipython3",
      "version": "3.9.12"
    },
    "orig_nbformat": 4,
    "vscode": {
      "interpreter": {
        "hash": "5e5670abb08844f1af3bbc7bb9ef8e3b4ef400ad7b254432ac9e559b82ca9501"
      }
    },
    "colab": {
      "provenance": [],
      "include_colab_link": true
    }
  },
  "nbformat": 4,
  "nbformat_minor": 0
}