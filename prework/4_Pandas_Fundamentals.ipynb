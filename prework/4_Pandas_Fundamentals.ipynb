{
  "cells": [
    {
      "cell_type": "markdown",
      "metadata": {
        "id": "view-in-github",
        "colab_type": "text"
      },
      "source": [
        "<a href=\"https://colab.research.google.com/github/tb-harris/neuroscience-2024/blob/main/prework/4_Pandas_Fundamentals.ipynb\" target=\"_parent\"><img src=\"https://colab.research.google.com/assets/colab-badge.svg\" alt=\"Open In Colab\"/></a>"
      ]
    },
    {
      "cell_type": "markdown",
      "metadata": {
        "id": "jtvjqvmFIxiP"
      },
      "source": [
        "# Pandas\n",
        "\n",
        "`pandas` is a Python library that helps us work with categorical and numerical data.\n",
        "\n",
        "\n",
        "To use this library, we first have to **import** it with the keyword `import`. We can follow our import statement with **as** to give Pandas a shorter name that we can reference throughout your code.\n",
        "\n",
        "**Important: If you don't run the code below, none of the pandas functions used later in this notebook will work!**"
      ]
    },
    {
      "cell_type": "code",
      "execution_count": null,
      "metadata": {
        "id": "gdg_NGfkIxiQ"
      },
      "outputs": [],
      "source": [
        "import pandas as pd"
      ]
    },
    {
      "cell_type": "markdown",
      "metadata": {
        "id": "az7vS2WMIxiR"
      },
      "source": [
        "## Read data\n",
        "With `pandas` imported, we can read in .csv files with the `pandas` function `read_csv()`.\n",
        "\n",
        "In that function, we can specify the file we want to use with a URL or with the path to a local file as a string.\n",
        "\n",
        "This saves the data in a structure called a DataFrame.\n",
        "\n",
        "[Click here](https://raw.githubusercontent.com/DeisData/python/master/data/gapminder.csv) to see the csv (comma-separated values) file with the data we will be using in this notebook."
      ]
    },
    {
      "cell_type": "code",
      "execution_count": null,
      "metadata": {
        "id": "r8NkciOlIxiR"
      },
      "outputs": [],
      "source": [
        "df = pd.read_csv(\"https://raw.githubusercontent.com/DeisData/python/master/data/gapminder.csv\") # read in data"
      ]
    },
    {
      "cell_type": "markdown",
      "metadata": {
        "id": "f0aZKl3LIxiR"
      },
      "source": [
        "Our data is now saved as a data frame in Python as the variable `df`. With the data now in the environment, we can take a look at the first few rows with `df.head()`."
      ]
    },
    {
      "cell_type": "code",
      "execution_count": null,
      "metadata": {
        "id": "0BUDMVzRIxiS"
      },
      "outputs": [],
      "source": [
        "df.head()"
      ]
    },
    {
      "cell_type": "markdown",
      "metadata": {
        "id": "7VJ5lCu_IxiS"
      },
      "source": [
        "We can see that this data frame has several different columns, with information about countries and demography.\n",
        "\n",
        "*If a \"View recommended plots\" button shows up after running the above code, try using it to see some of the different ways this data can be visualized! This is a new feature of Colab that helps to suggest code to plot data.*"
      ]
    },
    {
      "cell_type": "markdown",
      "metadata": {
        "id": "HX-OZ6wNIxiS"
      },
      "source": [
        "## Summarize data frame\n",
        "\n",
        "It is important to understand the data we are working with before we begin analysis. First, let's look at the dimenions of the data frame using `df.shape`. It gives the number of rows by the number of columns."
      ]
    },
    {
      "cell_type": "code",
      "execution_count": null,
      "metadata": {
        "id": "lsvbAc2_IxiS"
      },
      "outputs": [],
      "source": [
        "df.shape"
      ]
    },
    {
      "cell_type": "markdown",
      "metadata": {
        "id": "UrCK_931IxiT"
      },
      "source": [
        "This shows that our data frame has 14740 rows by 9 columns.\n",
        "\n",
        "We can also use `df.columns` to display the column names."
      ]
    },
    {
      "cell_type": "code",
      "execution_count": null,
      "metadata": {
        "id": "tEMcyPnaIxiT"
      },
      "outputs": [],
      "source": [
        "df.columns"
      ]
    },
    {
      "cell_type": "markdown",
      "metadata": {
        "id": "SDPPa1q_IxiT"
      },
      "source": [
        "### Categorical variables\n",
        "Next, let's summarize the categorical, non-numerical variables. For instance, we can identify how many unique regions we have in the data set.\n",
        "\n",
        "First, to select a column, we use the notation `df['COLUMN_NAME']`."
      ]
    },
    {
      "cell_type": "code",
      "execution_count": null,
      "metadata": {
        "id": "iXRxHtbqIxiT"
      },
      "outputs": [],
      "source": [
        "df['region']"
      ]
    },
    {
      "cell_type": "markdown",
      "metadata": {
        "id": "bGoWQ21hIxiT"
      },
      "source": [
        "To identify unique entries in this column, we can use the `.unique()` function. We can also use `.nunique()` to find the number of unique columns in the dataset."
      ]
    },
    {
      "cell_type": "code",
      "execution_count": null,
      "metadata": {
        "id": "Ao4jJBuaIxiT"
      },
      "outputs": [],
      "source": [
        "df['region'].unique()"
      ]
    },
    {
      "cell_type": "code",
      "source": [
        "df['region'].nunique()"
      ],
      "metadata": {
        "id": "FqmnsdKYOnti"
      },
      "execution_count": null,
      "outputs": []
    },
    {
      "cell_type": "markdown",
      "metadata": {
        "id": "8H1NGHFMIxiT"
      },
      "source": [
        "### Question 1\n",
        "Write code to determine how many unique countries are in the dataset."
      ]
    },
    {
      "cell_type": "code",
      "execution_count": null,
      "metadata": {
        "id": "0YK3tGiyIxiU"
      },
      "outputs": [],
      "source": [
        "# Your code here"
      ]
    },
    {
      "cell_type": "markdown",
      "metadata": {
        "id": "zNPkRuAqIxiU"
      },
      "source": [
        "### Numerical variables"
      ]
    },
    {
      "cell_type": "markdown",
      "metadata": {
        "id": "iJMucNEIIxiU"
      },
      "source": [
        "Numerical columns can be summarized in several ways. Let's find the mean first.\n",
        "\n",
        "To make things simpler, we'll just do calculations on the `population`, `life_expectancy`, and `babies_per_woman` columns. We can put those names in a `list` and then specify that list for the columns."
      ]
    },
    {
      "cell_type": "code",
      "execution_count": null,
      "metadata": {
        "id": "7pupSNsbIxiU"
      },
      "outputs": [],
      "source": [
        "target_columns = [ 'population', 'life_expectancy', 'babies_per_woman' ] # numerical columns\n",
        "\n",
        "df[target_columns]"
      ]
    },
    {
      "cell_type": "markdown",
      "metadata": {
        "id": "kEWL7CYoIxiU"
      },
      "source": [
        "With this set of columns, we can run `.mean()` to find the mean of each column."
      ]
    },
    {
      "cell_type": "code",
      "execution_count": null,
      "metadata": {
        "id": "XdX11cfVIxiU"
      },
      "outputs": [],
      "source": [
        "df[target_columns].mean() # returns the mean of each column"
      ]
    },
    {
      "cell_type": "markdown",
      "metadata": {
        "id": "9yDlMTGqIxiU"
      },
      "source": [
        "If we want a larger variety of summary statistics, we can use the `.describe()` method."
      ]
    },
    {
      "cell_type": "code",
      "execution_count": null,
      "metadata": {
        "id": "spnDwZE4IxiV"
      },
      "outputs": [],
      "source": [
        "df[target_columns].describe()"
      ]
    },
    {
      "cell_type": "markdown",
      "metadata": {
        "id": "ngMtCH2wIxiW"
      },
      "source": [
        "### Question 2\n",
        "Print out the summary statistics for columns `age5_surviving`, `gdp_per_day`, and `gdp_per_capita`."
      ]
    },
    {
      "cell_type": "code",
      "execution_count": null,
      "metadata": {
        "id": "7fHlVgagIxiX"
      },
      "outputs": [],
      "source": [
        "### your code below:\n"
      ]
    },
    {
      "cell_type": "markdown",
      "metadata": {
        "id": "ZHLxkWJuIxiX"
      },
      "source": [
        "## Manipulate data"
      ]
    },
    {
      "cell_type": "markdown",
      "metadata": {
        "id": "ppGqLxoIIxiV"
      },
      "source": [
        "### Accessing rows and specific entries\n",
        "\n",
        "You can also to access a specific row using `df.loc[ROW, :]`. The colon specifies to select all columns for that row number. **Try changing the code below to access other rows.**"
      ]
    },
    {
      "cell_type": "code",
      "execution_count": null,
      "metadata": {
        "id": "jj4wyimrIxiV"
      },
      "outputs": [],
      "source": [
        "df.loc[0, :] # the first row"
      ]
    },
    {
      "cell_type": "markdown",
      "metadata": {
        "id": "PsZPrKPUIxiV"
      },
      "source": [
        "We can use `.loc` to find the value of specific entries, as well."
      ]
    },
    {
      "cell_type": "code",
      "execution_count": null,
      "metadata": {
        "id": "EtFn40JRIxiV"
      },
      "outputs": [],
      "source": [
        "df.loc[0, 'country'] # first row entry for column"
      ]
    },
    {
      "cell_type": "markdown",
      "source": [
        "### Question 3\n",
        "Get the row with index 100 from the dataframe."
      ],
      "metadata": {
        "id": "Oe2t-UDNcET0"
      }
    },
    {
      "cell_type": "code",
      "source": [
        "# Your code below:\n"
      ],
      "metadata": {
        "id": "cSDO-mU7cbbm"
      },
      "execution_count": null,
      "outputs": []
    },
    {
      "cell_type": "markdown",
      "metadata": {
        "id": "l3V_snUEIxiY"
      },
      "source": [
        "### Subset by row"
      ]
    },
    {
      "cell_type": "markdown",
      "metadata": {
        "id": "zer8msQNIxiY"
      },
      "source": [
        "Sometimes, we want to create a subset of the main data frame based on certain conditions. We do this by using `df.loc` and specifying a condition for the rows.\n",
        "\n",
        "Below, we take all of the rows where `year` is greater than or equal to 2000 with `df['year'] >= 2000` and assign this to a new data frame."
      ]
    },
    {
      "cell_type": "code",
      "execution_count": null,
      "metadata": {
        "id": "8UEOAjmxIxiY"
      },
      "outputs": [],
      "source": [
        "# take all rows where year is greater than or equal to 2000 and create a new dataframe\n",
        "data_21st_century = df.loc[df['year'] >= 2000, :]\n",
        "data_21st_century.head() # prints out the first few rows of our new dataframe"
      ]
    },
    {
      "cell_type": "markdown",
      "source": [
        "We can now analyze this subset of data on its own. For example, we could get the mean life expectancy across all entries in the 21st century."
      ],
      "metadata": {
        "id": "IczpVc9vdqGV"
      }
    },
    {
      "cell_type": "code",
      "source": [
        "# Get summary statistics for all numerical columns of our 21st century-only dataframe\n",
        "data_21st_century['life_expectancy'].mean()"
      ],
      "metadata": {
        "id": "23sZlnt3doiO"
      },
      "execution_count": null,
      "outputs": []
    },
    {
      "cell_type": "markdown",
      "metadata": {
        "id": "mPMCIBL3IxiY"
      },
      "source": [
        "We can use the following operators to make subsets:\n",
        "- Equals: `==`\n",
        "- Not equals: `!=`\n",
        "- Greater than, less than: `>`, `<`\n",
        "- Greater than or equal to: `>=`\n",
        "- Less than or equal to: `<=`"
      ]
    },
    {
      "cell_type": "markdown",
      "metadata": {
        "id": "Pxu4fr2FIxiY"
      },
      "source": [
        "We can also subset with categorical variables. Here, we take all rows where the country is Hungary."
      ]
    },
    {
      "cell_type": "code",
      "execution_count": null,
      "metadata": {
        "id": "uRhbv9exIxiY"
      },
      "outputs": [],
      "source": [
        "df_hungary = df.loc[df['country'] == 'Hungary', :] # create a new dataframe with just the rows where 'country' is 'Hungary'\n",
        "df_hungary.head() # prints out the first few rows of the new Hungary dataframe"
      ]
    },
    {
      "cell_type": "markdown",
      "source": [
        "We can now analyze just the entires associated with Hungary by, for example, getting summary statistics for the `population` and `life_expectancy` columns."
      ],
      "metadata": {
        "id": "LMkh-ktxSBb2"
      }
    },
    {
      "cell_type": "code",
      "source": [
        "# Get summary statistics for life expectancy and % surviving to age 5 in df_hungary\n",
        "columns = [\"population\", \"life_expectancy\"]\n",
        "df_hungary[columns].describe()"
      ],
      "metadata": {
        "id": "QBQYvFshSHMC"
      },
      "execution_count": null,
      "outputs": []
    },
    {
      "cell_type": "markdown",
      "metadata": {
        "id": "4lYCR0q0IxiZ"
      },
      "source": [
        "### Question 4\n",
        "\n",
        "Create a subset of data from Lithuania."
      ]
    },
    {
      "cell_type": "code",
      "execution_count": null,
      "metadata": {
        "id": "mOCE4IvtIxiZ"
      },
      "outputs": [],
      "source": [
        "### Your code here\n"
      ]
    },
    {
      "cell_type": "markdown",
      "source": [
        "Then, calculate the mean `age5_surviving` of the subset. You should get the value *90.8027901234568*"
      ],
      "metadata": {
        "id": "nLadOR1CXGK9"
      }
    },
    {
      "cell_type": "code",
      "source": [
        "### Your code here\n"
      ],
      "metadata": {
        "id": "5v2JMOv4XL7f"
      },
      "execution_count": null,
      "outputs": []
    },
    {
      "cell_type": "markdown",
      "metadata": {
        "id": "NrDD1CICXYGk"
      },
      "source": [
        "### Question 5\n",
        "\n",
        "Create a subset of data from the `year` 2005."
      ]
    },
    {
      "cell_type": "code",
      "execution_count": null,
      "metadata": {
        "id": "hKFOWdHlXYGv"
      },
      "outputs": [],
      "source": [
        "### Your code here\n"
      ]
    },
    {
      "cell_type": "markdown",
      "source": [
        "Then, calculate summary staistics for `life_expectancy` and `gdp_per_capita`. The count of both columns in the summary statistics should be *182*."
      ],
      "metadata": {
        "id": "t4nhiOOKXYGv"
      }
    },
    {
      "cell_type": "code",
      "source": [
        "### Your code here\n"
      ],
      "metadata": {
        "id": "IqvStfYtXYGv"
      },
      "execution_count": null,
      "outputs": []
    },
    {
      "cell_type": "markdown",
      "metadata": {
        "id": "KB9Gaqq2ePlP"
      },
      "source": [
        "### Question 6\n",
        "Follow the steps below to find out which countries have had at least one year with a life expectancy of 80 or above."
      ]
    },
    {
      "cell_type": "markdown",
      "source": [
        "Create the subset of data such that `life_expectancy` is 80 or above."
      ],
      "metadata": {
        "id": "3Aiue6dIegIW"
      }
    },
    {
      "cell_type": "code",
      "execution_count": null,
      "metadata": {
        "id": "WMKXNxvRePlk"
      },
      "outputs": [],
      "source": [
        "### Your code here\n"
      ]
    },
    {
      "cell_type": "markdown",
      "source": [
        "Get a list of unique `country` entries in the dataframe using [.unique()](https://colab.research.google.com/drive/1lN_ZRqzQiv1IjLwIqfcCBz5zO_7zkhox#scrollTo=bGoWQ21hIxiT)."
      ],
      "metadata": {
        "id": "NFNgXXQWgPt2"
      }
    },
    {
      "cell_type": "code",
      "source": [
        "### Your code here"
      ],
      "metadata": {
        "id": "y8rmU0q0ghvd"
      },
      "execution_count": null,
      "outputs": []
    },
    {
      "cell_type": "markdown",
      "metadata": {
        "id": "0Y22r-jRIxil"
      },
      "source": [
        "## Resources\n",
        "\n",
        "This notebook is adapted from the [Brandeis Library Python Programming Workshop](https://deisdata.github.io/python/) created by Ford Fishman.\n",
        "\n",
        "- [NumPy docs](https://numpy.org/doc/stable/index.html)\n",
        "- [NumPy getting started](https://numpy.org/doc/stable/user/quickstart.html)\n",
        "- [Random samples with NumPy](https://numpy.org/doc/stable/reference/random/index.html)\n",
        "- [Pandas docs](https://pandas.pydata.org/docs/)\n",
        "- [Pandas getting started](https://pandas.pydata.org/docs/getting_started/index.html#getting-started)\n",
        "- [Pandas cheatsheet](https://pandas.pydata.org/Pandas_Cheat_Sheet.pdf)\n",
        "- [PySpark for big data](https://spark.apache.org/docs/latest/api/python/)\n",
        "\n",
        "This lesson is adapted from\n",
        "[Software Carpentry](http://swcarpentry.github.io/python-novice-gapminder/design/)."
      ]
    }
  ],
  "metadata": {
    "kernelspec": {
      "display_name": "Python 3.9.12 ('workshop')",
      "language": "python",
      "name": "python3"
    },
    "language_info": {
      "codemirror_mode": {
        "name": "ipython",
        "version": 3
      },
      "file_extension": ".py",
      "mimetype": "text/x-python",
      "name": "python",
      "nbconvert_exporter": "python",
      "pygments_lexer": "ipython3",
      "version": "3.9.12"
    },
    "orig_nbformat": 4,
    "vscode": {
      "interpreter": {
        "hash": "5e5670abb08844f1af3bbc7bb9ef8e3b4ef400ad7b254432ac9e559b82ca9501"
      }
    },
    "colab": {
      "provenance": [],
      "include_colab_link": true
    }
  },
  "nbformat": 4,
  "nbformat_minor": 0
}