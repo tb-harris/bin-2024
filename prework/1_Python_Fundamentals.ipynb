{
  "cells": [
    {
      "cell_type": "markdown",
      "metadata": {
        "id": "view-in-github",
        "colab_type": "text"
      },
      "source": [
        "<a href=\"https://colab.research.google.com/github/tb-harris/neuroscience-2024/blob/main/prework/1_Python_Fundamentals.ipynb\" target=\"_parent\"><img src=\"https://colab.research.google.com/assets/colab-badge.svg\" alt=\"Open In Colab\"/></a>"
      ]
    },
    {
      "cell_type": "markdown",
      "metadata": {
        "id": "AM1f_R92I_8Q"
      },
      "source": [
        "# Python Fundamentals\n",
        "**Make sure you have watched [Introduction to Google Colab](https://www.youtube.com/watch?v=g0xu9DA4gDw) (up to 9:40) before starting this notebook.**\n",
        "\n"
      ]
    },
    {
      "cell_type": "markdown",
      "source": [
        "## Running Python Code\n",
        "Python is a very powerful tool for automating tasks that would otherwise be time-consuming or impossible to do by hand or other conventional tools. Here, we'll go over basic ways to use Python to introduce you to a slice of its potential.\n",
        "\n",
        "Try running the code below by clicking on the \"play\" button next to it or clicking on it and pressing Shift+Enter. Once you run it, you will see its output."
      ],
      "metadata": {
        "id": "XO0XPrEYDQha"
      }
    },
    {
      "cell_type": "code",
      "source": [
        "print(\"Hello, world!\")"
      ],
      "metadata": {
        "id": "UuE9PF5MCin6"
      },
      "execution_count": null,
      "outputs": []
    },
    {
      "cell_type": "markdown",
      "source": [
        "**This notebook has a number of code cells as examples: make sure to run each one in order to see its output.**"
      ],
      "metadata": {
        "id": "IxDeT0YIqsrh"
      }
    },
    {
      "cell_type": "markdown",
      "metadata": {
        "id": "zL1XlTBrI_8S"
      },
      "source": [
        "### Question 1.  Do it yourself!  Coding\n",
        "Write a message in the quotation marks in the code cell below. Then, run the code, and double check that it outputs your message."
      ]
    },
    {
      "cell_type": "code",
      "execution_count": null,
      "metadata": {
        "id": "hI_pbVQ5I_8T"
      },
      "outputs": [],
      "source": [
        "message = ''\n",
        "\n",
        "print(message)"
      ]
    },
    {
      "cell_type": "markdown",
      "source": [
        "**You should complete each question in this notebook in the same way: edit the code, then run it to make sure you get the correct output. If the output doesn't look right, change the code and try again!**"
      ],
      "metadata": {
        "id": "olUXh1dQq-wI"
      }
    },
    {
      "cell_type": "markdown",
      "metadata": {
        "id": "fHJaZ2xLI_8U"
      },
      "source": [
        "## Python as a calculator"
      ]
    },
    {
      "cell_type": "markdown",
      "metadata": {
        "id": "0D8o3w7MI_8V"
      },
      "source": [
        "An incredibly simple yet pivotal role of Python is to perform math calculations (addition, subtraction, multiplication, etc.). We show how to basic action below.\n",
        "\n",
        "You'll see the symbol `#` used often. These are comments, and they are used to write descriptions. Any characters following `#` are not run or executed.\n",
        "\n",
        "**Don't forget to run each code cell to see its output!**"
      ]
    },
    {
      "cell_type": "code",
      "execution_count": null,
      "metadata": {
        "id": "VGmf4BFlI_8V"
      },
      "outputs": [],
      "source": [
        "3 + 4 * 5  # addition and multiplication"
      ]
    },
    {
      "cell_type": "markdown",
      "metadata": {
        "id": "q484RH0xI_8W"
      },
      "source": [
        "You may have noticed from that example that order of operations mattered for that calculation. You can parentheses too if you want to group calculations."
      ]
    },
    {
      "cell_type": "code",
      "execution_count": null,
      "metadata": {
        "id": "e6zpSjUjI_8W"
      },
      "outputs": [],
      "source": [
        "12 / (6 - 4) # division and substraction"
      ]
    },
    {
      "cell_type": "markdown",
      "metadata": {
        "id": "lbg45ynpI_8X"
      },
      "source": [
        "Exponentiation (e.g. $2^3$) looks a little bit odd in Python as it uses `**` instead of a more traditional `^`."
      ]
    },
    {
      "cell_type": "code",
      "execution_count": null,
      "metadata": {
        "id": "eFsJvdFYI_8X"
      },
      "outputs": [],
      "source": [
        "2 ** 3 # exponentiation"
      ]
    },
    {
      "cell_type": "markdown",
      "metadata": {
        "id": "4e8a-4S4I_8Y"
      },
      "source": [
        "#### Question 2: Calculate the following value in Python: $ \\frac{25}{(35 - 3)^3} $"
      ]
    },
    {
      "cell_type": "code",
      "execution_count": null,
      "metadata": {
        "id": "zGpGDV_FI_8Y"
      },
      "outputs": [],
      "source": [
        "### Put your answer below:"
      ]
    },
    {
      "cell_type": "markdown",
      "metadata": {
        "id": "t5s3KtiAI_8Y"
      },
      "source": [
        "## Assigning Variables\n",
        "A foundational tool in Python is assigning values to variables. We do this with the `=` operator."
      ]
    },
    {
      "cell_type": "code",
      "execution_count": null,
      "metadata": {
        "id": "o8PzKJ1XI_8Y"
      },
      "outputs": [],
      "source": [
        "x = 50 # x is 50"
      ]
    },
    {
      "cell_type": "markdown",
      "metadata": {
        "id": "FyboffsJI_8Y"
      },
      "source": [
        "This sets the variable `x` to be 50, which is an **integer**, or `int`. This value of x is now stored in our notebook, and we can access this value in other cells until the notebook is reset. For instance, subtracting 20 from `x` prints out a value of 30."
      ]
    },
    {
      "cell_type": "code",
      "execution_count": null,
      "metadata": {
        "id": "zOIHX3WaI_8Y"
      },
      "outputs": [],
      "source": [
        "# What if I use x again in a different cell?\n",
        "x - 20"
      ]
    },
    {
      "cell_type": "markdown",
      "metadata": {
        "id": "3TE4ZXfhI_8Y"
      },
      "source": [
        "**Variables persist between cells once they have been run (executed).**"
      ]
    },
    {
      "cell_type": "markdown",
      "metadata": {
        "id": "t7I5DobsI_8Y"
      },
      "source": [
        "If we ever want to check the value of any variable, we can use the built-in `print()` command to display the value."
      ]
    },
    {
      "cell_type": "code",
      "execution_count": null,
      "metadata": {
        "id": "-e-iV2J2I_8Y"
      },
      "outputs": [],
      "source": [
        "y = 35\n",
        "print(y)"
      ]
    },
    {
      "cell_type": "markdown",
      "metadata": {
        "id": "7WkTCxsGI_8Z"
      },
      "source": [
        "We can also assign the value of one variable to another variable. If we execute `x = y`, x takes the current value of `y` and assigns that to `x`.\n",
        "\n",
        "*Note: `y` will be unaffected by this assignment. `x = y` should be interpretted as \"let x take the current value of y\".*"
      ]
    },
    {
      "cell_type": "code",
      "execution_count": null,
      "metadata": {
        "id": "jtxppt6FI_8Z"
      },
      "outputs": [],
      "source": [
        "x = y\n",
        "print(x)\n",
        "print(y)"
      ]
    },
    {
      "cell_type": "markdown",
      "metadata": {
        "id": "-D9GNnGGI_8Z"
      },
      "source": [
        "If we change `y` to be a different value, `x` will be unaffected."
      ]
    },
    {
      "cell_type": "code",
      "execution_count": null,
      "metadata": {
        "id": "lpeSkEk9I_8Z"
      },
      "outputs": [],
      "source": [
        "y = 3.8\n",
        "print(x) # will not always be the same value as y\n",
        "print(y)"
      ]
    },
    {
      "cell_type": "markdown",
      "metadata": {
        "id": "g6McNjZAI_8Z"
      },
      "source": [
        "**Basic variables only change value when something is assigned to them.**\n",
        "They are **not** like spreadsheets where a cell can depend on another and update automatically."
      ]
    },
    {
      "cell_type": "markdown",
      "metadata": {
        "id": "I0_E3Wa5I_8Z"
      },
      "source": [
        "### Question 3.  Predict the Output\n",
        "Try predicting the output of each of the following programs. Enter your prediction for a program in the indicated **text cell**, then run the code cell below it to check your prediction.\n"
      ]
    },
    {
      "cell_type": "markdown",
      "source": [
        "#### Program 1\n",
        "```python\n",
        "a = 3\n",
        "b = a\n",
        "print(a)\n",
        "print(b)\n",
        "```"
      ],
      "metadata": {
        "id": "j47PPEtOLWcj"
      }
    },
    {
      "cell_type": "markdown",
      "source": [
        "*RECORD YOUR PREDICTION HERE*"
      ],
      "metadata": {
        "id": "Nw-ODiSBLal0"
      }
    },
    {
      "cell_type": "markdown",
      "source": [
        "**Run the code below to test your prediction:**"
      ],
      "metadata": {
        "id": "8atKctA_NadR"
      }
    },
    {
      "cell_type": "code",
      "execution_count": null,
      "metadata": {
        "id": "TlXCB52II_8Z"
      },
      "outputs": [],
      "source": [
        "a = 3\n",
        "b = a\n",
        "print(a)\n",
        "print(b)"
      ]
    },
    {
      "cell_type": "markdown",
      "source": [
        "#### Program 2\n",
        "```python\n",
        "a = 5\n",
        "b = a*2\n",
        "print(b)\n",
        "```"
      ],
      "metadata": {
        "id": "VtmiFg_lr2ny"
      }
    },
    {
      "cell_type": "markdown",
      "source": [
        "*RECORD YOUR PREDICTION HERE*"
      ],
      "metadata": {
        "id": "Zhvhurefr2nz"
      }
    },
    {
      "cell_type": "markdown",
      "source": [
        "**Run the code below to test your prediction:**"
      ],
      "metadata": {
        "id": "sWbSGMgyr2nz"
      }
    },
    {
      "cell_type": "code",
      "execution_count": null,
      "metadata": {
        "id": "15yRZkDGr2nz"
      },
      "outputs": [],
      "source": [
        "a = 5\n",
        "b = a*2\n",
        "print(b)"
      ]
    },
    {
      "cell_type": "markdown",
      "source": [
        "#### Program 3\n",
        "```python\n",
        "message1 = 'Hello'\n",
        "message2 = message1\n",
        "message1 = 'Goodbye'\n",
        "print(message1, message2)\n",
        "```"
      ],
      "metadata": {
        "id": "4BEA7BdfNouQ"
      }
    },
    {
      "cell_type": "markdown",
      "source": [
        "*RECORD YOUR PREDICTION HERE*"
      ],
      "metadata": {
        "id": "FSbhGsFeNouZ"
      }
    },
    {
      "cell_type": "markdown",
      "source": [
        "**Run the code below to test your prediction:**"
      ],
      "metadata": {
        "id": "vLo5hnX6NouZ"
      }
    },
    {
      "cell_type": "code",
      "execution_count": null,
      "metadata": {
        "id": "WeWxkHvkNouZ"
      },
      "outputs": [],
      "source": [
        "message1 = 'Hello'\n",
        "message2 = message1\n",
        "message1 = 'Goodbye'\n",
        "print(message1, message2)"
      ]
    },
    {
      "cell_type": "markdown",
      "source": [
        "#### Program 4\n",
        "```python\n",
        "x = 1.0\n",
        "y = 3.0\n",
        "swap = x\n",
        "x = y\n",
        "y = swap\n",
        "print(swap)\n",
        "```"
      ],
      "metadata": {
        "id": "cITBH_xSONfi"
      }
    },
    {
      "cell_type": "markdown",
      "source": [
        "*RECORD YOUR PREDICTION HERE*"
      ],
      "metadata": {
        "id": "WaQ1PT3tONfr"
      }
    },
    {
      "cell_type": "markdown",
      "source": [
        "**Run the code below to test your prediction:**"
      ],
      "metadata": {
        "id": "-LNPpbjoONfr"
      }
    },
    {
      "cell_type": "code",
      "execution_count": null,
      "metadata": {
        "id": "huP8Rr1QONfs"
      },
      "outputs": [],
      "source": [
        "x = 1.0\n",
        "y = 3.0\n",
        "swap = x\n",
        "x = y\n",
        "y = swap\n",
        "print(swap)"
      ]
    },
    {
      "cell_type": "markdown",
      "metadata": {
        "id": "zihcUC7xI_8Z"
      },
      "source": [
        "### Variable Naming\n",
        "\n",
        "_Variable name conventions_\n",
        "- Use only letters, digits, and underscores _ **(no spaces!)**\n",
        "- Start with a letter (typically lower case)\n",
        "- Variable names are case sensitive\n",
        "- Use meaningful names!"
      ]
    },
    {
      "cell_type": "markdown",
      "source": [
        "### Code Sequence\n",
        "**Variables must be created before they are used.** Otherwise, Python will throw an error - you can see an example of error output by running the cell below."
      ],
      "metadata": {
        "id": "75BMf2mSOgVf"
      }
    },
    {
      "cell_type": "code",
      "execution_count": null,
      "metadata": {
        "id": "ptaCq9TfI_8Z"
      },
      "outputs": [],
      "source": [
        "print(z) # we haven't created z yet!"
      ]
    },
    {
      "cell_type": "markdown",
      "metadata": {
        "id": "492I5_KWI_8a"
      },
      "source": [
        "In the following example, we specify a value for a variable after we print it. This will not work. Within a cell, the statements are executed from top to bottom. If the Python interpreter finds an error, execution stops."
      ]
    },
    {
      "cell_type": "code",
      "execution_count": null,
      "metadata": {
        "id": "SngnOnQwI_8a"
      },
      "outputs": [],
      "source": [
        "print(last_name) # last name does not exist yet\n",
        "# What happens if I try to correct my error in the same cell?\n",
        "last_name='Montoya'\n",
        "print(last_name)"
      ]
    },
    {
      "cell_type": "markdown",
      "source": [
        "### Question 5\n",
        "Re-order the code below so that it runs correctly."
      ],
      "metadata": {
        "id": "-HnJa1FSsj9p"
      }
    },
    {
      "cell_type": "code",
      "source": [
        "minutes_per_day = minutes_per_hour * hours_per_day\n",
        "\n",
        "minutes_per_hour = 60\n",
        "hours_per_day = 24\n",
        "\n",
        "print('There are', minutes_per_day, 'minutes in a day.')"
      ],
      "metadata": {
        "id": "hx2V4IACspGF"
      },
      "execution_count": null,
      "outputs": []
    },
    {
      "cell_type": "markdown",
      "metadata": {
        "id": "mV1pkDeBI_8a"
      },
      "source": [
        "### Assignment Operators\n",
        "If we want to increase a value of a variable by a certain amount, we can use the `+=` operator. Here, we add 2 to the current value of x."
      ]
    },
    {
      "cell_type": "code",
      "execution_count": null,
      "metadata": {
        "id": "d4FV5tc5I_8a"
      },
      "outputs": [],
      "source": [
        "print(x) # before incrementing\n",
        "x += 2\n",
        "print(x) # after incrementing"
      ]
    },
    {
      "cell_type": "markdown",
      "metadata": {
        "id": "hiku3FbiI_8a"
      },
      "source": [
        "This is equivalent to running `x = x + 2`. We can also do similar operations with subtraction, multiplication, and division."
      ]
    },
    {
      "cell_type": "code",
      "execution_count": null,
      "metadata": {
        "id": "M81DLbFYI_8a"
      },
      "outputs": [],
      "source": [
        "x = 8\n",
        "x -= 2 # 8 - 2\n",
        "print(\"subtraction:\", x)\n",
        "x *= 4 # 6 * 4\n",
        "print(\"multiplication:\", x)\n",
        "x /= 6 # 24 / 6\n",
        "print(\"division:\", x)\n"
      ]
    },
    {
      "cell_type": "markdown",
      "metadata": {
        "id": "YaT-lMZJI_8a"
      },
      "source": [
        "### Question 6\n",
        "Multiply `a` by 3, and print out the new value of `a`.\n"
      ]
    },
    {
      "cell_type": "code",
      "execution_count": null,
      "metadata": {
        "id": "dx6H3u_LI_8a"
      },
      "outputs": [],
      "source": [
        "a = 25\n",
        "# write your code here:"
      ]
    },
    {
      "cell_type": "markdown",
      "metadata": {
        "id": "6NGHdfRMI_8a"
      },
      "source": [
        "## Strings\n",
        "\n",
        "So far, we have only assigned numerical values to variables. We can also assign values characters to variables. These are called **strings**. You can specify a string by putting text within either single quotation (`'single'`) or double quotation marks (`\"double\"`)."
      ]
    },
    {
      "cell_type": "code",
      "execution_count": null,
      "metadata": {
        "id": "2tHkVDuRI_8a"
      },
      "outputs": [],
      "source": [
        "my_name = 'Inigo Montoya'\n",
        "print(my_name)"
      ]
    },
    {
      "cell_type": "markdown",
      "metadata": {
        "id": "Gjw0eXcII_8f"
      },
      "source": [
        "We can print out a string directly in `print()`, as well."
      ]
    },
    {
      "cell_type": "code",
      "execution_count": null,
      "metadata": {
        "id": "mw9H_N5rI_8f"
      },
      "outputs": [],
      "source": [
        "print(\"My name is\")\n",
        "print(my_name) # will print on a second line"
      ]
    },
    {
      "cell_type": "markdown",
      "metadata": {
        "id": "ppuhgm8QI_8f"
      },
      "source": [
        "We can also print out multiple values in a single `print()` statement."
      ]
    },
    {
      "cell_type": "code",
      "execution_count": null,
      "metadata": {
        "id": "SDLuodHII_8g"
      },
      "outputs": [],
      "source": [
        "print(\"My name is\", my_name) # print() adds a space between the values"
      ]
    },
    {
      "cell_type": "markdown",
      "metadata": {
        "id": "V8FrNBXcI_8g"
      },
      "source": [
        "If we print out a string with an integer variable, it will convert the integer to a string in order to print it."
      ]
    },
    {
      "cell_type": "code",
      "execution_count": null,
      "metadata": {
        "id": "8X6S5QM_I_8g"
      },
      "outputs": [],
      "source": [
        "num_balloons = 25\n",
        "print(\"I would like\", num_balloons, \"balloons.\")"
      ]
    },
    {
      "cell_type": "markdown",
      "metadata": {
        "id": "haymrteHI_8g"
      },
      "source": [
        "#### Question 7\n",
        "1. Create a variable `school` and assign it a string with the school you attend.\n",
        "2. Print out *I go to*, followed by the value in the school variable (for example, *I go to Riverdale*)"
      ]
    },
    {
      "cell_type": "code",
      "execution_count": null,
      "metadata": {
        "id": "GVhn9WR3I_8g"
      },
      "outputs": [],
      "source": []
    },
    {
      "cell_type": "markdown",
      "metadata": {
        "id": "3vQ--thiI_8g"
      },
      "source": [
        "## Data Types:\n",
        "- integers (`int`) represent positive or negative whole numbers like 3 or -512\n",
        "- floating point numbers (`float`) represent real numbers like 3.14159 or -2.5\n",
        "- character strings (`str`) are text\n",
        "   - written with single or double quotes (matching)\n",
        "   - quotations aren't printed when the string is displayed"
      ]
    },
    {
      "cell_type": "code",
      "execution_count": null,
      "metadata": {
        "id": "b6zwb685I_8g"
      },
      "outputs": [],
      "source": [
        "# Find the type with function type()\n",
        "print(type(52))\n",
        "print(type(\"Inigo Montoya\"))\n",
        "print(type(3.14))\n",
        "\n",
        "# notice we are nesting functions -> type() is inside of print()"
      ]
    },
    {
      "cell_type": "markdown",
      "metadata": {
        "id": "XtJwzcg0I_8h"
      },
      "source": [
        "### Combining and adding data types"
      ]
    },
    {
      "cell_type": "markdown",
      "metadata": {
        "id": "wcFjHTTZI_8h"
      },
      "source": [
        "The `+` operator concatenates (adds) strings together. However if you try to add an integer and a string, you will receive an error."
      ]
    },
    {
      "cell_type": "code",
      "execution_count": null,
      "metadata": {
        "id": "YOQQSqDXI_8h"
      },
      "outputs": [],
      "source": [
        "print(\"several\" + \" concatenated\" + \" strings\") # need to manually add spaces when concatenating"
      ]
    },
    {
      "cell_type": "code",
      "execution_count": null,
      "metadata": {
        "id": "Y-C7N_KhI_8h"
      },
      "outputs": [],
      "source": [
        "print(1 + \"2\") # adding string to int doesn't work"
      ]
    },
    {
      "cell_type": "markdown",
      "metadata": {
        "id": "2aWAAFJRI_8h"
      },
      "source": [
        "We can convert an `int` to a `string` with the `str()` function to combine them. We must convert numbers to strings or vice versa when operating on them. Consistency is key!"
      ]
    },
    {
      "cell_type": "code",
      "execution_count": null,
      "metadata": {
        "id": "lPWI4nGrI_8h"
      },
      "outputs": [],
      "source": [
        "print(1+int('2')) # convert string to int to do addition\n",
        "print(str(1)+'2') # convert int to string to concatenate"
      ]
    },
    {
      "cell_type": "markdown",
      "metadata": {
        "id": "_2PQJ7MpI_8h"
      },
      "source": [
        "However, we can mix integers and floats freely in operations. This will result in the final value being a float."
      ]
    },
    {
      "cell_type": "code",
      "execution_count": null,
      "metadata": {
        "id": "Foboi3FxI_8h"
      },
      "outputs": [],
      "source": [
        "print('half is', 1/2.0)\n",
        "print('three squared is', 3.0 ** 2)"
      ]
    },
    {
      "cell_type": "markdown",
      "metadata": {
        "id": "bqE1Q7CQI_8h"
      },
      "source": [
        "### Length\n",
        "Strings have length (how many characters long they are), which can find with `len()`. Floats and ints do not have length."
      ]
    },
    {
      "cell_type": "code",
      "execution_count": null,
      "metadata": {
        "id": "B30_h3tgI_8i"
      },
      "outputs": [],
      "source": [
        "print( len(\"a long string\") ) # spaces count in length"
      ]
    },
    {
      "cell_type": "code",
      "execution_count": null,
      "metadata": {
        "id": "E-pNIJe4I_8i"
      },
      "outputs": [],
      "source": [
        "print( len(3.1415) ) # will get n error"
      ]
    },
    {
      "cell_type": "markdown",
      "metadata": {
        "id": "fW-lMv_KI_8i"
      },
      "source": [
        "### Division Types with numbers\n",
        "- `//` operator performs integer floor division (rounds down to nearest integer)\n",
        "- `/` operator performs floating point division (returns a number with a decimal point)\n",
        "- `%` modulo operator returns the remainder from integer division"
      ]
    },
    {
      "cell_type": "code",
      "execution_count": null,
      "metadata": {
        "id": "ef31DdvRI_8i"
      },
      "outputs": [],
      "source": [
        "print(5//3)\n",
        "print(5/3)\n",
        "print(5%3)"
      ]
    },
    {
      "cell_type": "markdown",
      "metadata": {
        "id": "hix-4AMAI_8i"
      },
      "source": [
        "### Question 8\n",
        "Choose a type (int, float, str) that each of these descriptions should be.\n",
        "- Time elapsed from the start of the year until now in days. - *YOUR ANSWER HERE*\n",
        "- Serial code of a piece of lab equipment - *YOUR ANSWER HERE*\n",
        "- A lab specimen's age - *YOUR ANSWER HERE*\n"
      ]
    },
    {
      "cell_type": "markdown",
      "metadata": {
        "id": "zh3FegwSI_8i"
      },
      "source": [
        "## Question 9\n",
        "\n",
        "The area \\(A\\) of a trapezoid can be calculated using the following formula:\n",
        "\n",
        "$$A = \\frac{1}{2} (b_1 + b_2) h$$\n",
        "\n",
        "where $b_1$ and $b_2$ are the lengths of the two parallel sides (bases) and $h$ is the height.\n",
        "\n",
        "Create variables `b1`, `b2`, and `h` with the values of 4, 6, and 5 respectively.\n",
        "\n",
        "Calculate the area of a trapezoid with those dimensions, and save it in a variable `area`. Then, print out `area`. Your program should output *25*.\n",
        "\n",
        "**Note:** Python doesn't allow implicit multiplication with parentheses. For example, $x(y + z)$ must be written as `x * (y + z)`, not `x(y + z)`.\n"
      ]
    },
    {
      "cell_type": "code",
      "execution_count": null,
      "metadata": {
        "id": "Wn67y3ANI_8i"
      },
      "outputs": [],
      "source": [
        "# your code below:"
      ]
    },
    {
      "cell_type": "markdown",
      "source": [
        "This notebook is adapted from the [Brandeis Library Python Programming Workshop](https://deisdata.github.io/python/) created by Ford Fishman."
      ],
      "metadata": {
        "id": "WMEY03I_j14B"
      }
    }
  ],
  "metadata": {
    "kernelspec": {
      "display_name": "Python 3.9.12 ('workshop')",
      "language": "python",
      "name": "python3"
    },
    "language_info": {
      "codemirror_mode": {
        "name": "ipython",
        "version": 3
      },
      "file_extension": ".py",
      "mimetype": "text/x-python",
      "name": "python",
      "nbconvert_exporter": "python",
      "pygments_lexer": "ipython3",
      "version": "3.9.12"
    },
    "vscode": {
      "interpreter": {
        "hash": "5e5670abb08844f1af3bbc7bb9ef8e3b4ef400ad7b254432ac9e559b82ca9501"
      }
    },
    "colab": {
      "provenance": [],
      "toc_visible": true,
      "include_colab_link": true
    }
  },
  "nbformat": 4,
  "nbformat_minor": 0
}