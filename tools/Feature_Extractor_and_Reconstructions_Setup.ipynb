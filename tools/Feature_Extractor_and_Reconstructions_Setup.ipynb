{
  "cells": [
    {
      "cell_type": "markdown",
      "metadata": {
        "id": "view-in-github",
        "colab_type": "text"
      },
      "source": [
        "<a href=\"https://colab.research.google.com/github/tb-harris/neuroscience-2024/blob/main/tools/Feature_Extractor_and_Reconstructions_Setup.ipynb\" target=\"_parent\"><img src=\"https://colab.research.google.com/assets/colab-badge.svg\" alt=\"Open In Colab\"/></a>"
      ]
    },
    {
      "cell_type": "code",
      "execution_count": 30,
      "metadata": {
        "id": "WQWJYnwTc_OS",
        "colab": {
          "base_uri": "https://localhost:8080/"
        },
        "outputId": "d2878ae9-e361-4c4a-f639-4db51f9d66e2"
      },
      "outputs": [
        {
          "output_type": "stream",
          "name": "stdout",
          "text": [
            "Drive already mounted at /content/drive; to attempt to forcibly remount, call drive.mount(\"/content/drive\", force_remount=True).\n"
          ]
        }
      ],
      "source": [
        "#Mount google drive\n",
        "from google.colab import drive\n",
        "drive.mount('/content/drive')"
      ]
    },
    {
      "cell_type": "markdown",
      "metadata": {
        "id": "NuCsdOlacOyf"
      },
      "source": [
        "Install the feature extractor library:"
      ]
    },
    {
      "cell_type": "code",
      "execution_count": null,
      "metadata": {
        "id": "TW7xJeKnb05o"
      },
      "outputs": [],
      "source": [
        "!pip install neuron_morphology"
      ]
    },
    {
      "cell_type": "markdown",
      "metadata": {
        "id": "KqImbo-aeFln"
      },
      "source": [
        "## Downloading data\n",
        "Load in cell manifest file containing reconstruction file names"
      ]
    },
    {
      "cell_type": "code",
      "execution_count": 49,
      "metadata": {
        "id": "MM5mIVSQdSOg"
      },
      "outputs": [],
      "source": [
        "import pandas as pd\n",
        "\n",
        "#metadata\n",
        "path = '/content/drive/Shareddrives/Lisman Laboratory/Data 2023/Allen Brain Institute Data/20200711_patchseq_metadata_mouse.csv'\n",
        "metadata = pd.read_csv(path, index_col=\"cell_specimen_id\")\n",
        "# manifest\n",
        "path1 = '/content/drive/Shareddrives/Lisman Laboratory/Data 2023/Allen Brain Institute Data/2021-09-13_mouse_file_manifest.csv'\n",
        "manifest = pd.read_csv(path1, index_col=\"file_id\")"
      ]
    },
    {
      "cell_type": "code",
      "source": [
        "metadata"
      ],
      "metadata": {
        "id": "6im8Hx4xkFwc"
      },
      "execution_count": null,
      "outputs": []
    },
    {
      "cell_type": "markdown",
      "metadata": {
        "id": "59TR3U4xe3zK"
      },
      "source": [
        "Get the URL to download each of our 573 neuron reconstruction files:"
      ]
    },
    {
      "cell_type": "code",
      "execution_count": 90,
      "metadata": {
        "id": "ttw0s8JTeO9H"
      },
      "outputs": [],
      "source": [
        "# subset the manifest file to only include reconstructed cells\n",
        "manifest_reconstructed = manifest.loc[(manifest[\"file_type\"] == \"transformed_swc\")]\n",
        "\n",
        "archive_url = swc_urls[\"archive_uri\"].values"
      ]
    },
    {
      "cell_type": "markdown",
      "metadata": {
        "id": "x2EK8acWfFW1"
      },
      "source": [
        "Download the reconstruction files:"
      ]
    },
    {
      "cell_type": "code",
      "execution_count": null,
      "metadata": {
        "id": "by_kfx8BesLm"
      },
      "outputs": [],
      "source": [
        "#5m 10s\n",
        "for url in archive_url:\n",
        "  !wget {url}"
      ]
    },
    {
      "cell_type": "markdown",
      "source": [
        "Move the files into Google Drive:"
      ],
      "metadata": {
        "id": "U96JABhxzOUt"
      }
    },
    {
      "cell_type": "code",
      "source": [
        "!cp -r ./*.swc \"/content/drive/Shareddrives/Lisman Laboratory/Lisman 2024/Neuro/Data/raw_data/reconstructions/\""
      ],
      "metadata": {
        "id": "npqOGrXwzUqN"
      },
      "execution_count": null,
      "outputs": []
    },
    {
      "cell_type": "markdown",
      "source": [
        "Add reconstruction files manifest to Drive:"
      ],
      "metadata": {
        "id": "lrqGhFVgIXFj"
      }
    },
    {
      "cell_type": "code",
      "source": [
        "# Create a list of files in our Drive\n",
        "swc_paths = \"/content/drive/Shareddrives/Lisman Laboratory/Lisman 2024/Neuro/Data/raw_data/reconstructions/\" + manifest_reconstructed[\"file_name\"].astype(str)\n",
        "\n",
        "swc_paths.index.name = \"cell_specimen_id\"\n",
        "swc_paths.to_hdf(\"/content/drive/Shareddrives/Lisman Laboratory/Lisman 2024/Neuro/Data/raw_data/reconstruction_paths.hdf\", key=\"reconstruction_files\")"
      ],
      "metadata": {
        "id": "HRviIoe7IaVE"
      },
      "execution_count": 92,
      "outputs": []
    }
  ],
  "metadata": {
    "colab": {
      "provenance": [],
      "include_colab_link": true
    },
    "kernelspec": {
      "display_name": "Python 3",
      "name": "python3"
    },
    "language_info": {
      "name": "python"
    }
  },
  "nbformat": 4,
  "nbformat_minor": 0
}